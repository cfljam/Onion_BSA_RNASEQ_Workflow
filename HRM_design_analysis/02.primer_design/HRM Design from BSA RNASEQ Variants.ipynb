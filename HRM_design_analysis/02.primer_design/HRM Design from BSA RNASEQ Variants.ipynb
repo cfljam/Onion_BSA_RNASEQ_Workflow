{
 "metadata": {
  "name": "",
  "signature": "sha256:c050e63778fe584395692481bea66bfccd530965e662e73eb77a778e08ff0631"
 },
 "nbformat": 3,
 "nbformat_minor": 0,
 "worksheets": [
  {
   "cells": [
    {
     "cell_type": "heading",
     "level": 1,
     "metadata": {},
     "source": [
      "Design of  HRM Markers based on R Filtering of Popoolation2 Data"
     ]
    },
    {
     "cell_type": "markdown",
     "metadata": {},
     "source": [
      "This notebook demonstrates methodology used to design HRM (high resolution melting) assays for validating variants revealed by Poolseq. See https://github.com/cfljam/Onion_BSA_RNASEQ_Workflow\n",
      "\n",
      "The key code is sourced from https://github.com/cfljam/galaxy-pcr-markers\n",
      "\n",
      "Amplicon melt prediction is provided by a Umelt (https://www.dna.utah.edu/umelt/umelt.html) webservice set up by the Wittwer Lab at  University of Utah.\n",
      "\n",
      "Design may also be performed in the Galaxy workflow environment. Tools are available at https://toolshed.g2.bx.psu.edu/repos/john-mccallum/pcr_markers\n",
      "\n",
      "This notebook uses Python Pandas http://pandas.pydata.org/ for tabular data manipulation, filtering and visualization. \n"
     ]
    },
    {
     "cell_type": "code",
     "collapsed": false,
     "input": [
      "!echo \"Last updated\" $(date) "
     ],
     "language": "python",
     "metadata": {},
     "outputs": [
      {
       "output_type": "stream",
       "stream": "stdout",
       "text": [
        "Last updated Thu Jun 19 08:55:12 NZST 2014\r\n"
       ]
      }
     ],
     "prompt_number": 2
    },
    {
     "cell_type": "heading",
     "level": 4,
     "metadata": {},
     "source": [
      "\n",
      "Refresh the code for primer design"
     ]
    },
    {
     "cell_type": "code",
     "collapsed": false,
     "input": [
      "!rm -rf galaxy-pcr-markers/"
     ],
     "language": "python",
     "metadata": {},
     "outputs": [],
     "prompt_number": 6
    },
    {
     "cell_type": "code",
     "collapsed": false,
     "input": [
      "!git clone  https://github.com/cfljam/galaxy-pcr-markers.git"
     ],
     "language": "python",
     "metadata": {},
     "outputs": [
      {
       "output_type": "stream",
       "stream": "stdout",
       "text": [
        "Cloning into 'galaxy-pcr-markers'...\r\n"
       ]
      },
      {
       "output_type": "stream",
       "stream": "stdout",
       "text": [
        "remote: Reusing existing pack: 251, done.\u001b[K\r\n"
       ]
      },
      {
       "output_type": "stream",
       "stream": "stdout",
       "text": [
        "Receiving objects:   0% (1/251)   \r",
        "Receiving objects:   1% (3/251)   \r",
        "Receiving objects:   2% (6/251)   \r",
        "Receiving objects:   3% (8/251)   \r",
        "Receiving objects:   4% (11/251)   \r",
        "Receiving objects:   5% (13/251)   \r",
        "Receiving objects:   6% (16/251)   \r",
        "Receiving objects:   7% (18/251)   \r",
        "Receiving objects:   8% (21/251)   \r",
        "Receiving objects:   9% (23/251)   \r",
        "Receiving objects:  10% (26/251)   \r",
        "Receiving objects:  11% (28/251)   \r",
        "Receiving objects:  12% (31/251)   \r",
        "Receiving objects:  13% (33/251)   \r",
        "Receiving objects:  14% (36/251)   \r",
        "Receiving objects:  15% (38/251)   \r"
       ]
      },
      {
       "output_type": "stream",
       "stream": "stdout",
       "text": [
        "Receiving objects:  16% (41/251)   \r",
        "Receiving objects:  17% (43/251)   \r",
        "Receiving objects:  18% (46/251)   \r",
        "Receiving objects:  19% (48/251)   \r",
        "Receiving objects:  20% (51/251)   \r",
        "Receiving objects:  21% (53/251)   \r",
        "Receiving objects:  22% (56/251)   \r",
        "Receiving objects:  23% (58/251)   \r",
        "Receiving objects:  24% (61/251)   \r",
        "Receiving objects:  25% (63/251)   \r",
        "Receiving objects:  26% (66/251)   \r",
        "Receiving objects:  27% (68/251)   \r",
        "Receiving objects:  28% (71/251)   \r",
        "Receiving objects:  29% (73/251)   \r",
        "Receiving objects:  30% (76/251)   \r",
        "Receiving objects:  31% (78/251)   \r"
       ]
      },
      {
       "output_type": "stream",
       "stream": "stdout",
       "text": [
        "Receiving objects:  32% (81/251)   \r",
        "Receiving objects:  33% (83/251)   \r",
        "Receiving objects:  34% (86/251)   \r",
        "Receiving objects:  35% (88/251)   \r"
       ]
      },
      {
       "output_type": "stream",
       "stream": "stdout",
       "text": [
        "Receiving objects:  36% (91/251)   \r",
        "Receiving objects:  37% (93/251)   \r",
        "Receiving objects:  38% (96/251)   \r",
        "Receiving objects:  39% (98/251)   \r",
        "Receiving objects:  40% (101/251)   \r",
        "Receiving objects:  41% (103/251)   \r",
        "Receiving objects:  42% (106/251)   \r"
       ]
      },
      {
       "output_type": "stream",
       "stream": "stdout",
       "text": [
        "Receiving objects:  43% (108/251)   \r",
        "Receiving objects:  44% (111/251)   \r",
        "Receiving objects:  45% (113/251)   \r",
        "Receiving objects:  46% (116/251)   \r",
        "Receiving objects:  47% (118/251)   \r",
        "Receiving objects:  48% (121/251)   \r",
        "Receiving objects:  49% (123/251)   \r",
        "Receiving objects:  50% (126/251)   \r"
       ]
      },
      {
       "output_type": "stream",
       "stream": "stdout",
       "text": [
        "Receiving objects:  51% (129/251), 68.00 KiB | 124 KiB/s   \r",
        "Receiving objects:  52% (131/251), 68.00 KiB | 124 KiB/s   \r",
        "Receiving objects:  53% (134/251), 68.00 KiB | 124 KiB/s   \r",
        "Receiving objects:  54% (136/251), 68.00 KiB | 124 KiB/s   \r",
        "Receiving objects:  55% (139/251), 68.00 KiB | 124 KiB/s   \r",
        "Receiving objects:  56% (141/251), 68.00 KiB | 124 KiB/s   \r",
        "Receiving objects:  57% (144/251), 68.00 KiB | 124 KiB/s   \r",
        "Receiving objects:  58% (146/251), 68.00 KiB | 124 KiB/s   \r",
        "Receiving objects:  59% (149/251), 68.00 KiB | 124 KiB/s   \r",
        "Receiving objects:  60% (151/251), 68.00 KiB | 124 KiB/s   \r",
        "Receiving objects:  61% (154/251), 68.00 KiB | 124 KiB/s   \r",
        "Receiving objects:  62% (156/251), 68.00 KiB | 124 KiB/s   \r",
        "Receiving objects:  63% (159/251), 68.00 KiB | 124 KiB/s   \r",
        "Receiving objects:  64% (161/251), 68.00 KiB | 124 KiB/s   \r",
        "Receiving objects:  65% (164/251), 68.00 KiB | 124 KiB/s   \r",
        "Receiving objects:  66% (166/251), 68.00 KiB | 124 KiB/s   \r",
        "Receiving objects:  67% (169/251), 68.00 KiB | 124 KiB/s   \r"
       ]
      },
      {
       "output_type": "stream",
       "stream": "stdout",
       "text": [
        "Receiving objects:  68% (171/251), 68.00 KiB | 124 KiB/s   \r",
        "Receiving objects:  69% (174/251), 68.00 KiB | 124 KiB/s   \r",
        "Receiving objects:  70% (176/251), 68.00 KiB | 124 KiB/s   \r",
        "Receiving objects:  71% (179/251), 68.00 KiB | 124 KiB/s   \r",
        "Receiving objects:  72% (181/251), 68.00 KiB | 124 KiB/s   \r",
        "Receiving objects:  73% (184/251), 68.00 KiB | 124 KiB/s   \r",
        "Receiving objects:  74% (186/251), 68.00 KiB | 124 KiB/s   \r",
        "Receiving objects:  75% (189/251), 68.00 KiB | 124 KiB/s   \r",
        "Receiving objects:  76% (191/251), 68.00 KiB | 124 KiB/s   \r",
        "Receiving objects:  77% (194/251), 68.00 KiB | 124 KiB/s   \r",
        "Receiving objects:  78% (196/251), 68.00 KiB | 124 KiB/s   \r",
        "Receiving objects:  79% (199/251), 68.00 KiB | 124 KiB/s   \r",
        "Receiving objects:  80% (201/251), 68.00 KiB | 124 KiB/s   \r",
        "Receiving objects:  81% (204/251), 68.00 KiB | 124 KiB/s   \r",
        "Receiving objects:  82% (206/251), 68.00 KiB | 124 KiB/s   \r"
       ]
      },
      {
       "output_type": "stream",
       "stream": "stdout",
       "text": [
        "Receiving objects:  83% (209/251), 68.00 KiB | 124 KiB/s   \r",
        "Receiving objects:  84% (211/251), 68.00 KiB | 124 KiB/s   \r",
        "Receiving objects:  85% (214/251), 68.00 KiB | 124 KiB/s   \r"
       ]
      },
      {
       "output_type": "stream",
       "stream": "stdout",
       "text": [
        "Receiving objects:  85% (215/251), 132.00 KiB | 125 KiB/s   \r"
       ]
      },
      {
       "output_type": "stream",
       "stream": "stdout",
       "text": [
        "remote: Total 251 (delta 0), reused 0 (delta 0)\u001b[K\r\n",
        "Receiving objects:  86% (216/251), 140.00 KiB | 70 KiB/s   \r",
        "Receiving objects:  87% (219/251), 140.00 KiB | 70 KiB/s   \r",
        "Receiving objects:  88% (221/251), 140.00 KiB | 70 KiB/s   \r",
        "Receiving objects:  89% (224/251), 140.00 KiB | 70 KiB/s   \r",
        "Receiving objects:  90% (226/251), 140.00 KiB | 70 KiB/s   \r",
        "Receiving objects:  91% (229/251), 140.00 KiB | 70 KiB/s   \r",
        "Receiving objects:  92% (231/251), 140.00 KiB | 70 KiB/s   \r",
        "Receiving objects:  93% (234/251), 140.00 KiB | 70 KiB/s   \r",
        "Receiving objects:  94% (236/251), 140.00 KiB | 70 KiB/s   \r",
        "Receiving objects:  95% (239/251), 140.00 KiB | 70 KiB/s   \r",
        "Receiving objects:  96% (241/251), 140.00 KiB | 70 KiB/s   \r",
        "Receiving objects:  97% (244/251), 140.00 KiB | 70 KiB/s   \r",
        "Receiving objects:  98% (246/251), 140.00 KiB | 70 KiB/s   \r",
        "Receiving objects:  99% (249/251), 140.00 KiB | 70 KiB/s   \r",
        "Receiving objects: 100% (251/251), 140.00 KiB | 70 KiB/s   \r",
        "Receiving objects: 100% (251/251), 147.11 KiB | 70 KiB/s, done.\r\n",
        "Resolving deltas:   0% (0/126)   \r",
        "Resolving deltas:  50% (64/126)   \r",
        "Resolving deltas:  54% (69/126)   \r",
        "Resolving deltas:  55% (70/126)   \r",
        "Resolving deltas:  58% (74/126)   \r",
        "Resolving deltas:  69% (88/126)   \r",
        "Resolving deltas:  73% (92/126)   \r",
        "Resolving deltas:  74% (94/126)   \r",
        "Resolving deltas:  76% (96/126)   \r",
        "Resolving deltas:  77% (98/126)   \r",
        "Resolving deltas:  81% (103/126)   \r",
        "Resolving deltas:  82% (104/126)   \r"
       ]
      },
      {
       "output_type": "stream",
       "stream": "stdout",
       "text": [
        "Resolving deltas:  83% (105/126)   \r",
        "Resolving deltas:  84% (106/126)   \r",
        "Resolving deltas:  85% (108/126)   \r",
        "Resolving deltas:  87% (110/126)   \r",
        "Resolving deltas:  88% (111/126)   \r",
        "Resolving deltas:  89% (113/126)   \r",
        "Resolving deltas:  92% (116/126)   \r",
        "Resolving deltas:  94% (119/126)   \r",
        "Resolving deltas:  95% (120/126)   \r",
        "Resolving deltas:  97% (123/126)   \r",
        "Resolving deltas:  98% (124/126)   \r",
        "Resolving deltas: 100% (126/126)   \r",
        "Resolving deltas: 100% (126/126), done.\r\n"
       ]
      }
     ],
     "prompt_number": 7
    },
    {
     "cell_type": "code",
     "collapsed": false,
     "input": [
      "%cd galaxy-pcr-markers/"
     ],
     "language": "python",
     "metadata": {},
     "outputs": [
      {
       "output_type": "stream",
       "stream": "stdout",
       "text": [
        "/home/cfljam/Onion_BSA_RNASEQ_Workflow/HRM_design_analysis/02.primer_design/galaxy-pcr-markers\n"
       ]
      }
     ],
     "prompt_number": 8
    },
    {
     "cell_type": "code",
     "collapsed": false,
     "input": [
      "!git log -1"
     ],
     "language": "python",
     "metadata": {},
     "outputs": [
      {
       "output_type": "stream",
       "stream": "stdout",
       "text": [
        "\u001b[33mcommit ee646176d62be1dd5ce6e78eff8ea9879ba5e753\u001b[m\r\n",
        "Merge: 979da8c eeb8a6d\r\n",
        "Author: Ben Warren <ben.warren@plantandfood.co.nz>\r\n",
        "Date:   Fri Jun 13 13:40:50 2014 +1200\r\n",
        "\r\n",
        "    Merge branch 'stable'\r\n",
        "    \r\n",
        "    * stable:\r\n",
        "      Update README.md\r\n",
        "    \r\n",
        "    Conflicts:\r\n",
        "    \tREADME.md\r\n"
       ]
      }
     ],
     "prompt_number": 9
    },
    {
     "cell_type": "code",
     "collapsed": false,
     "input": [
      "%cd .."
     ],
     "language": "python",
     "metadata": {},
     "outputs": [
      {
       "output_type": "stream",
       "stream": "stdout",
       "text": [
        "/home/cfljam/Onion_BSA_RNASEQ_Workflow/HRM_design_analysis/02.primer_design\n"
       ]
      }
     ],
     "prompt_number": 10
    },
    {
     "cell_type": "heading",
     "level": 3,
     "metadata": {},
     "source": [
      "Read the Tabulated Data from Popoolation2"
     ]
    },
    {
     "cell_type": "code",
     "collapsed": false,
     "input": [
      "import pandas as pd\n",
      "Bolt_assoc_contigs=pd.read_csv('../01.popoolation2_analysis/Bolt_assoc_contigs.csv')\n",
      "Bolt_assoc_contigs.head()"
     ],
     "language": "python",
     "metadata": {},
     "outputs": [
      {
       "html": [
        "<div style=\"max-height:1000px;max-width:1500px;overflow:auto;\">\n",
        "<table border=\"1\" class=\"dataframe\">\n",
        "  <thead>\n",
        "    <tr style=\"text-align: right;\">\n",
        "      <th></th>\n",
        "      <th>chrom</th>\n",
        "      <th>all_pval</th>\n",
        "      <th>ACP267_pval</th>\n",
        "      <th>NotACP267_pval</th>\n",
        "      <th>sig_all</th>\n",
        "      <th>sig_ACP267</th>\n",
        "      <th>sig_NotACP267</th>\n",
        "    </tr>\n",
        "  </thead>\n",
        "  <tbody>\n",
        "    <tr>\n",
        "      <th>0</th>\n",
        "      <td> GBGJ01000076</td>\n",
        "      <td> 5.851089e-08</td>\n",
        "      <td> 1.110768e-04</td>\n",
        "      <td> 6.581682e-08</td>\n",
        "      <td>  True</td>\n",
        "      <td> False</td>\n",
        "      <td>  True</td>\n",
        "    </tr>\n",
        "    <tr>\n",
        "      <th>1</th>\n",
        "      <td> GBGJ01000123</td>\n",
        "      <td> 2.657503e-05</td>\n",
        "      <td> 1.773917e-04</td>\n",
        "      <td> 2.920395e-05</td>\n",
        "      <td>  True</td>\n",
        "      <td> False</td>\n",
        "      <td>  True</td>\n",
        "    </tr>\n",
        "    <tr>\n",
        "      <th>2</th>\n",
        "      <td> GBGJ01000488</td>\n",
        "      <td> 9.751515e-05</td>\n",
        "      <td> 8.609299e-02</td>\n",
        "      <td> 8.526761e-05</td>\n",
        "      <td> False</td>\n",
        "      <td> False</td>\n",
        "      <td>  True</td>\n",
        "    </tr>\n",
        "    <tr>\n",
        "      <th>3</th>\n",
        "      <td> GBGJ01000641</td>\n",
        "      <td> 1.009743e-05</td>\n",
        "      <td> 5.490614e-04</td>\n",
        "      <td> 8.305925e-06</td>\n",
        "      <td>  True</td>\n",
        "      <td> False</td>\n",
        "      <td>  True</td>\n",
        "    </tr>\n",
        "    <tr>\n",
        "      <th>4</th>\n",
        "      <td> GBGJ01000698</td>\n",
        "      <td> 1.957460e-03</td>\n",
        "      <td> 2.356825e-08</td>\n",
        "      <td> 1.888800e-03</td>\n",
        "      <td> False</td>\n",
        "      <td>  True</td>\n",
        "      <td> False</td>\n",
        "    </tr>\n",
        "  </tbody>\n",
        "</table>\n",
        "</div>"
       ],
       "metadata": {},
       "output_type": "pyout",
       "prompt_number": 9,
       "text": [
        "          chrom      all_pval   ACP267_pval  NotACP267_pval sig_all  \\\n",
        "0  GBGJ01000076  5.851089e-08  1.110768e-04    6.581682e-08    True   \n",
        "1  GBGJ01000123  2.657503e-05  1.773917e-04    2.920395e-05    True   \n",
        "2  GBGJ01000488  9.751515e-05  8.609299e-02    8.526761e-05   False   \n",
        "3  GBGJ01000641  1.009743e-05  5.490614e-04    8.305925e-06    True   \n",
        "4  GBGJ01000698  1.957460e-03  2.356825e-08    1.888800e-03   False   \n",
        "\n",
        "  sig_ACP267 sig_NotACP267  \n",
        "0      False          True  \n",
        "1      False          True  \n",
        "2      False          True  \n",
        "3      False          True  \n",
        "4       True         False  "
       ]
      }
     ],
     "prompt_number": 9
    },
    {
     "cell_type": "markdown",
     "metadata": {},
     "source": [
      "### Get the variants on the contigs of interest\n",
      "\n",
      "In this case, those with significant pvalues in all three comparisons"
     ]
    },
    {
     "cell_type": "code",
     "collapsed": false,
     "input": [
      "target_contigs=Bolt_assoc_contigs[Bolt_assoc_contigs.sig_ACP267 & Bolt_assoc_contigs.sig_all & \\\n",
      "                                  Bolt_assoc_contigs.sig_NotACP267].chrom\n",
      "target_contigs.head()"
     ],
     "language": "python",
     "metadata": {},
     "outputs": [
      {
       "metadata": {},
       "output_type": "pyout",
       "prompt_number": 10,
       "text": [
        "22    GBGJ01005788\n",
        "23    GBGJ01006046\n",
        "35    GBGJ01010367\n",
        "37    GBGJ01010856\n",
        "48    GBGJ01012558\n",
        "Name: chrom, dtype: object"
       ]
      }
     ],
     "prompt_number": 10
    },
    {
     "cell_type": "code",
     "collapsed": false,
     "input": [
      "len(target_contigs)"
     ],
     "language": "python",
     "metadata": {},
     "outputs": [
      {
       "metadata": {},
       "output_type": "pyout",
       "prompt_number": 3,
       "text": [
        "263"
       ]
      }
     ],
     "prompt_number": 3
    },
    {
     "cell_type": "markdown",
     "metadata": {},
     "source": [
      "Data compiled on local drive"
     ]
    },
    {
     "cell_type": "code",
     "collapsed": false,
     "input": [
      "!ls /data/BSARNASEQ/"
     ],
     "language": "python",
     "metadata": {},
     "outputs": [
      {
       "output_type": "stream",
       "stream": "stdout",
       "text": [
        "BSA_pools_TSA.vcf.gz\t     BSA_pools.vcf.gz\t      CUDH2150_merged.fasta\t CUDH2150_trinity.merged_0.98\t   GBGJ01000000.fasta  SAMN00138247_CUDH2150_TSA.fasta\r\n",
        "BSA_pools_TSA.vcf.gz.vcfidx  BSA_pools.vcf.gz.vcfidx  CUDH2150_merged.fasta.fai  CUDH2150_trinity.merged_0.98.fai  GBGJ01_accs\r\n"
       ]
      }
     ],
     "prompt_number": 11
    },
    {
     "cell_type": "code",
     "collapsed": false,
     "input": [
      "!cat /data/BSARNASEQ/GBGJ01000000.fasta /data/BSARNASEQ/SAMN00138247_CUDH2150_TSA.fasta > /data/BSARNASEQ/CUDH2150_merged.fasta"
     ],
     "language": "python",
     "metadata": {},
     "outputs": [],
     "prompt_number": 18
    },
    {
     "cell_type": "heading",
     "level": 3,
     "metadata": {},
     "source": [
      "Form   bed file for all  contigs in the assembly by indexing"
     ]
    },
    {
     "cell_type": "markdown",
     "metadata": {},
     "source": [
      "Reference file is concatenation of TSA assemblies for doubled haploid onion 'CUDH2150'  \n",
      "\n",
      "see http://www.ncbi.nlm.nih.gov/sra/?term=CUDH2150"
     ]
    },
    {
     "cell_type": "code",
     "collapsed": false,
     "input": [
      "!samtools faidx /data/BSARNASEQ/CUDH2150_merged.fasta\n",
      "!head /data/BSARNASEQ/CUDH2150_merged.fasta.fai"
     ],
     "language": "python",
     "metadata": {},
     "outputs": [
      {
       "output_type": "stream",
       "stream": "stdout",
       "text": [
        "GBGJ01000001\t271\t14\t60\t61\r\n",
        "GBGJ01000002\t837\t304\t60\t61\r\n",
        "GBGJ01000003\t469\t1169\t60\t61\r\n",
        "GBGJ01000004\t647\t1660\t60\t61\r\n",
        "GBGJ01000005\t369\t2332\t60\t61\r\n",
        "GBGJ01000006\t730\t2722\t60\t61\r\n",
        "GBGJ01000007\t365\t3479\t60\t61\r\n",
        "GBGJ01000008\t903\t3865\t60\t61\r\n",
        "GBGJ01000009\t410\t4798\t60\t61\r\n",
        "GBGJ01000010\t310\t5229\t60\t61\r\n"
       ]
      }
     ],
     "prompt_number": 12
    },
    {
     "cell_type": "heading",
     "level": 3,
     "metadata": {},
     "source": [
      "Create a  bedfile of target contigs only from the fai file"
     ]
    },
    {
     "cell_type": "code",
     "collapsed": false,
     "input": [
      "contig_df=pd.read_table('/data/BSARNASEQ/CUDH2150_merged.fasta.fai',\\\n",
      "                        usecols=[0,1],\\\n",
      "                        names=['contig','end'])\n",
      "contig_df['start']=1\n",
      "contig_df=contig_df[['contig','start','end']]\n",
      "contig_df.head()"
     ],
     "language": "python",
     "metadata": {},
     "outputs": [
      {
       "html": [
        "<div style=\"max-height:1000px;max-width:1500px;overflow:auto;\">\n",
        "<table border=\"1\" class=\"dataframe\">\n",
        "  <thead>\n",
        "    <tr style=\"text-align: right;\">\n",
        "      <th></th>\n",
        "      <th>contig</th>\n",
        "      <th>start</th>\n",
        "      <th>end</th>\n",
        "    </tr>\n",
        "  </thead>\n",
        "  <tbody>\n",
        "    <tr>\n",
        "      <th>0</th>\n",
        "      <td> GBGJ01000001</td>\n",
        "      <td> 1</td>\n",
        "      <td> 271</td>\n",
        "    </tr>\n",
        "    <tr>\n",
        "      <th>1</th>\n",
        "      <td> GBGJ01000002</td>\n",
        "      <td> 1</td>\n",
        "      <td> 837</td>\n",
        "    </tr>\n",
        "    <tr>\n",
        "      <th>2</th>\n",
        "      <td> GBGJ01000003</td>\n",
        "      <td> 1</td>\n",
        "      <td> 469</td>\n",
        "    </tr>\n",
        "    <tr>\n",
        "      <th>3</th>\n",
        "      <td> GBGJ01000004</td>\n",
        "      <td> 1</td>\n",
        "      <td> 647</td>\n",
        "    </tr>\n",
        "    <tr>\n",
        "      <th>4</th>\n",
        "      <td> GBGJ01000005</td>\n",
        "      <td> 1</td>\n",
        "      <td> 369</td>\n",
        "    </tr>\n",
        "  </tbody>\n",
        "</table>\n",
        "</div>"
       ],
       "metadata": {},
       "output_type": "pyout",
       "prompt_number": 39,
       "text": [
        "         contig  start  end\n",
        "0  GBGJ01000001      1  271\n",
        "1  GBGJ01000002      1  837\n",
        "2  GBGJ01000003      1  469\n",
        "3  GBGJ01000004      1  647\n",
        "4  GBGJ01000005      1  369"
       ]
      }
     ],
     "prompt_number": 39
    },
    {
     "cell_type": "markdown",
     "metadata": {},
     "source": [
      "Write out target bed file. **Note** necessity for header line, required by vcftools"
     ]
    },
    {
     "cell_type": "code",
     "collapsed": false,
     "input": [
      "!echo \"##Contigs with significant BSA scores\" > sig_contigs.bed ## add header\n",
      "contig_df[contig_df.contig.isin(target_contigs)].to_csv('sig_contigs.bed',sep='\\t',index=False,header=False, mode='append')\n",
      "!head sig_contigs.bed"
     ],
     "language": "python",
     "metadata": {},
     "outputs": [
      {
       "output_type": "stream",
       "stream": "stdout",
       "text": [
        "##Contigs with significant BSA scores\r\n",
        "GBGJ01005788\t1\t1051\r\n",
        "GBGJ01006046\t1\t1295\r\n",
        "GBGJ01010367\t1\t1464\r\n",
        "GBGJ01010856\t1\t610\r\n",
        "GBGJ01012558\t1\t1497\r\n",
        "GBGJ01014437\t1\t771\r\n",
        "GBGJ01015714\t1\t2094\r\n",
        "GBGJ01015912\t1\t3162\r\n",
        "GBGJ01016006\t1\t2256\r\n"
       ]
      }
     ],
     "prompt_number": 40
    },
    {
     "cell_type": "markdown",
     "metadata": {},
     "source": [
      "Now create a vcf file that just contains these contigs"
     ]
    },
    {
     "cell_type": "code",
     "collapsed": false,
     "input": [
      "!vcftools --gzvcf  /data/BSARNASEQ/BSA_pools_TSA.vcf.gz --bed sig_contigs.bed \\\n",
      "--recode --recode-INFO-all --out sig_contigs 2> /dev/null"
     ],
     "language": "python",
     "metadata": {},
     "outputs": [],
     "prompt_number": 41
    },
    {
     "cell_type": "markdown",
     "metadata": {},
     "source": [
      "Look for first 2 matches to a candidate contig "
     ]
    },
    {
     "cell_type": "code",
     "collapsed": false,
     "input": [
      "!grep  -m 2 GBGJ01016006 sig_contigs.recode.vcf"
     ],
     "language": "python",
     "metadata": {},
     "outputs": [
      {
       "output_type": "stream",
       "stream": "stdout",
       "text": [
        "GBGJ01016006\t70\t.\tT\tC\t2289.38\t.\tAB=0.833333;ABP=37.7539;AC=19;AF=0.791667;AN=24;AO=85;CIGAR=1X;DP=92;DPB=92;DPRA=8.27273;EPP=54.7424;EPPR=10.7656;GTI=3;LEN=1;MEANALT=1;MQM=39.6471;MQMR=42;NS=12;NUMALT=1;ODDS=0.969948;PAIRED=0.788235;PAIREDR=1;PAO=0;PQA=0;PQR=0;PRO=0;QA=3020;QR=206;RO=7;RPP=5.07959;RPPR=3.32051;RUN=1;SAF=44;SAP=3.24022;SAR=41;SRF=5;SRP=5.80219;SRR=2;TYPE=snp;technology.illumina=1\tGT:DP:RO:QR:AO:QA:GL\t1/1:3:0:0:3:84:-7.7432,-0.838804,0\t1/1:2:0:0:2:82:-7.11743,-0.571809,0\t1/1:6:0:0:6:202:-10,-1.56657,0\t0/0:1:1:34:0:0:0,-0.30083,-3.33592\t1/1:3:0:0:3:87:-4.98777,-0.5554,0\t1/1:1:0:0:1:35:-3.42084,-0.300865,0\t0/1:14:2:50:12:403:-10,0,-0.650764\t1/1:23:0:0:23:829:-10,-6.12278,0\t1/1:5:0:0:5:189:-10,-1.31325,0\t1/1:12:0:0:12:436:-10,-3.27869,0\t0/1:8:1:31:7:265:-10,0,-0.603316\t0/1:14:3:91:11:408:-10,0,-4.07095\r\n",
        "GBGJ01016006\t106\t.\tG\tT\t3851.76\t.\tAB=0.687179;ABP=62.3527;AC=13;AF=0.541667;AN=24;AO=143;CIGAR=1X;DP=204;DPB=204;DPRA=0;EPP=36.5542;EPPR=32.9481;GTI=1;LEN=1;MEANALT=1;MQM=40.951;MQMR=41.7049;NS=12;NUMALT=1;ODDS=3.11105;PAIRED=0.804196;PAIREDR=0.770492;PAO=0;PQA=0;PQR=0;PRO=0;QA=5361;QR=2266;RO=61;RPP=21.6121;RPPR=103.005;RUN=1;SAF=83;SAP=11.0432;SAR=60;SRF=45;SRP=32.9481;SRR=16;TYPE=snp;technology.illumina=1\tGT:DP:RO:QR:AO:QA:GL\t1/1:9:0:0:9:320:-10,-2.46604,0\t0/1:9:4:147:5:189:-10,0,-9.25826\t0/1:22:14:555:8:311:-10,0,-10\t0/1:10:6:232:4:155:-10,0,-10\t0/1:15:3:112:12:406:-10,0,-6.01171\t0/1:9:5:197:4:145:-10,0,-10\t0/1:22:6:228:16:587:-10,0,-10\t0/1:30:5:147:25:959:-10,0,-4.67758\t0/1:8:1:39:7:269:-10,0,-1.20087\t0/1:28:5:170:23:880:-10,0,-7.16745\t0/1:17:5:187:12:473:-10,0,-10\t0/1:25:7:252:18:667:-10,0,-10\r\n"
       ]
      }
     ],
     "prompt_number": 44
    },
    {
     "cell_type": "heading",
     "level": 3,
     "metadata": {},
     "source": [
      "Convert vcf to gff"
     ]
    },
    {
     "cell_type": "code",
     "collapsed": false,
     "input": [
      "%run galaxy-pcr-markers/vcf2gvf.py sig_contigs.recode.vcf sig_contigs.recode.gff\n",
      "!head sig_contigs.recode.gff"
     ],
     "language": "python",
     "metadata": {},
     "outputs": [
      {
       "output_type": "stream",
       "stream": "stdout",
       "text": [
        "#gff-version 3\r\n",
        "GBGJ01032483\tFREEBAYES\tCOMPLEX\t2\t4\t.\t.\t.\tID=GBGJ01032483:FREEBAYES:COMPLEX:2;Reference_seq=GGT;Variant_seq=CTTCTCTGGT\t\r\n",
        "GBGJ01032483\tFREEBAYES\tSNP\t351\t351\t.\t.\t.\tID=GBGJ01032483:FREEBAYES:SNP:351;Reference_seq=A;Variant_seq=G\t\r\n",
        "GBGJ01032483\tFREEBAYES\tSNP\t789\t789\t.\t.\t.\tID=GBGJ01032483:FREEBAYES:SNP:789;Reference_seq=T;Variant_seq=A\t\r\n",
        "GBGJ01032483\tFREEBAYES\tSNP\t1086\t1086\t.\t.\t.\tID=GBGJ01032483:FREEBAYES:SNP:1086;Reference_seq=T;Variant_seq=C\t\r\n",
        "GBGJ01032483\tFREEBAYES\tSNP\t1365\t1365\t.\t.\t.\tID=GBGJ01032483:FREEBAYES:SNP:1365;Reference_seq=A;Variant_seq=G\t\r\n",
        "GBGJ01032483\tFREEBAYES\tSNP\t1372\t1372\t.\t.\t.\tID=GBGJ01032483:FREEBAYES:SNP:1372;Reference_seq=T;Variant_seq=C\t\r\n",
        "GBGJ01032483\tFREEBAYES\tSNP\t1470\t1470\t.\t.\t.\tID=GBGJ01032483:FREEBAYES:SNP:1470;Reference_seq=T;Variant_seq=C\t\r\n",
        "GBGJ01032483\tFREEBAYES\tSNP\t1896\t1896\t.\t.\t.\tID=GBGJ01032483:FREEBAYES:SNP:1896;Reference_seq=G;Variant_seq=C\t\r\n",
        "GBGJ01032483\tFREEBAYES\tSNP\t1919\t1919\t.\t.\t.\tID=GBGJ01032483:FREEBAYES:SNP:1919;Reference_seq=G;Variant_seq=A\t\r\n"
       ]
      }
     ],
     "prompt_number": 22
    },
    {
     "cell_type": "heading",
     "level": 3,
     "metadata": {},
     "source": [
      "Generate list of Bi-allelic SNP Targets "
     ]
    },
    {
     "cell_type": "code",
     "collapsed": false,
     "input": [
      "!vcftools --vcf sig_contigs.recode.vcf --remove-indels --recode  --recode-INFO-all --out sig_contigs.snps"
     ],
     "language": "python",
     "metadata": {},
     "outputs": [
      {
       "output_type": "stream",
       "stream": "stdout",
       "text": [
        "\r\n",
        "VCFtools - v0.1.12a\r\n",
        "(C) Adam Auton and Anthony Marcketta 2009\r\n",
        "\r\n",
        "Parameters as interpreted:\r\n",
        "\t--vcf sig_contigs.recode.vcf\r\n",
        "\t--recode-INFO-all\r\n",
        "\t--out sig_contigs.snps\r\n",
        "\t--recode\r\n",
        "\t--remove-indels\r\n",
        "\r\n",
        "After filtering, kept 12 out of 12 Individuals\r\n",
        "Outputting VCF file...\r\n"
       ]
      },
      {
       "output_type": "stream",
       "stream": "stdout",
       "text": [
        "After filtering, kept 3977 out of a possible 4315 Sites\r\n",
        "Run Time = 0.00 seconds\r\n"
       ]
      }
     ],
     "prompt_number": 24
    },
    {
     "cell_type": "code",
     "collapsed": false,
     "input": [
      "%run galaxy-pcr-markers/vcf2gvf.py sig_contigs.snps.recode.vcf sig_contigs.snps.recode.gff\n",
      "!awk '!/^#/ {print $1\":\"$2\":\"$3\":\"$4}'   sig_contigs.snps.recode.gff > sig_contigs.snps.recode.targets"
     ],
     "language": "python",
     "metadata": {},
     "outputs": [],
     "prompt_number": 25
    },
    {
     "cell_type": "heading",
     "level": 3,
     "metadata": {},
     "source": [
      "Get 5 random lines to test design works, no melt preduction"
     ]
    },
    {
     "cell_type": "code",
     "collapsed": false,
     "input": [
      "!sort -R sig_contigs.snps.recode.targets | head -n5  > test "
     ],
     "language": "python",
     "metadata": {},
     "outputs": [
      {
       "output_type": "stream",
       "stream": "stdout",
       "text": [
        "sort: write failed: standard output: Broken pipe\r\n",
        "sort: write error\r\n"
       ]
      }
     ],
     "prompt_number": 49
    },
    {
     "cell_type": "code",
     "collapsed": false,
     "input": [
      "%run galaxy-pcr-markers/design_primers.py -i /data/BSARNASEQ/CUDH2150_merged.fasta \\\n",
      "-g sig_contigs.recode.gff -T test  -n 1 "
     ],
     "language": "python",
     "metadata": {},
     "outputs": [
      {
       "output_type": "stream",
       "stream": "stdout",
       "text": [
        "SNP_Target_ID Position Ref_base Variant_base Amplicon_bp PRIMER_LEFT_SEQUENCE PRIMER_RIGHT_SEQUENCE ref_melt_Tm var_melt_Tm Tm_difference\n",
        "GBGJ01019753:FREEBAYES:SNP:2434"
       ]
      },
      {
       "output_type": "stream",
       "stream": "stdout",
       "text": [
        " 2434 C T 253 CTGCTTCCGTTCCTAAAGTTG CACATCTTGCTTGAACTCGC 0 0 0\n",
        "GBGJ01074952:FREEBAYES:SNP:2218"
       ]
      },
      {
       "output_type": "stream",
       "stream": "stdout",
       "text": [
        " 2218 C T 224 CGAAAGTCGATAAGCTGTGC CATCAGGGCGTACTGTCATC 0 0 0\n",
        "GBGJ01080327:FREEBAYES:SNP:1115"
       ]
      },
      {
       "output_type": "stream",
       "stream": "stdout",
       "text": [
        " 1115 C T 283 CAATCCCAAAGCACACATTC GCCCTACTTCCATCAACACC 0 0 0\n",
        "GBGJ01088215:FREEBAYES:SNP:821"
       ]
      },
      {
       "output_type": "stream",
       "stream": "stdout",
       "text": [
        " 821 T A 262 CTGAACGAACCACCACTTTG ACCGACTTCTCCTTCACCTG 0 0 0\n",
        "JR853259:FREEBAYES:SNP:535"
       ]
      },
      {
       "output_type": "stream",
       "stream": "stdout",
       "text": [
        " 535 G A 198 CCTTGTTGGTTTGTTTGAGG AATATGCACGATAAAGACAAATCC 0 0 0\n"
       ]
      }
     ],
     "prompt_number": 50
    },
    {
     "cell_type": "markdown",
     "metadata": {},
     "source": [
      "### Design to a sample of  100 targets chosen at random\n",
      "\n",
      "* 60-120 bp product sizes\n",
      "* melt prediction using uMelt service at University of Utah\n",
      "* capture output to a python string (\"HRM_primer_output\") "
     ]
    },
    {
     "cell_type": "code",
     "collapsed": false,
     "input": [
      "!sort -R sig_contigs.snps.recode.targets | head -n 100 > SNP_targets\n",
      "%sc HRM_primer_output=python galaxy-pcr-markers/design_primers.py \\\n",
      "-i /data/BSARNASEQ/CUDH2150_merged.fasta \\\n",
      "-g sig_contigs.recode.gff -T SNP_targets  \\\n",
      "-n 1 -p 60 -P 120 -u"
     ],
     "language": "python",
     "metadata": {},
     "outputs": [
      {
       "output_type": "stream",
       "stream": "stdout",
       "text": [
        "sort: write failed: standard output: Broken pipe\r\n",
        "sort: write error\r\n"
       ]
      }
     ],
     "prompt_number": 51
    },
    {
     "cell_type": "markdown",
     "metadata": {},
     "source": [
      "Load output string into pandas data frame and get number of rows"
     ]
    },
    {
     "cell_type": "code",
     "collapsed": false,
     "input": [
      "import pandas as pd\n",
      "import StringIO\n",
      "HRM_primer_df=pd.read_table(StringIO.StringIO(HRM_primer_output),sep=' ')\n",
      "len(HRM_primer_df)"
     ],
     "language": "python",
     "metadata": {},
     "outputs": [
      {
       "html": [
        "<div style=\"max-height:1000px;max-width:1500px;overflow:auto;\">\n",
        "<table border=\"1\" class=\"dataframe\">\n",
        "  <thead>\n",
        "    <tr style=\"text-align: right;\">\n",
        "      <th></th>\n",
        "      <th>SNP_Target_ID</th>\n",
        "      <th>Position</th>\n",
        "      <th>Ref_base</th>\n",
        "      <th>Variant_base</th>\n",
        "      <th>Amplicon_bp</th>\n",
        "      <th>PRIMER_LEFT_SEQUENCE</th>\n",
        "      <th>PRIMER_RIGHT_SEQUENCE</th>\n",
        "      <th>ref_melt_Tm</th>\n",
        "      <th>var_melt_Tm</th>\n",
        "      <th>Tm_difference</th>\n",
        "    </tr>\n",
        "  </thead>\n",
        "  <tbody>\n",
        "    <tr>\n",
        "      <th>0</th>\n",
        "      <td>  GBGJ01006046:FREEBAYES:SNP:586</td>\n",
        "      <td>  586</td>\n",
        "      <td> A</td>\n",
        "      <td> C</td>\n",
        "      <td> 103</td>\n",
        "      <td>   GCATTCATCATCAGTTTCTGC</td>\n",
        "      <td> TGAATGATGATTCTTTAGATGCTG</td>\n",
        "      <td> 83.05</td>\n",
        "      <td> 83.50</td>\n",
        "      <td> 0.45</td>\n",
        "    </tr>\n",
        "    <tr>\n",
        "      <th>1</th>\n",
        "      <td>  GBGJ01014437:FREEBAYES:SNP:360</td>\n",
        "      <td>  360</td>\n",
        "      <td> A</td>\n",
        "      <td> G</td>\n",
        "      <td>  68</td>\n",
        "      <td>    ATAAGAGCCATAAGCGGCAG</td>\n",
        "      <td>     TACAATGGGTATGGCTTTGC</td>\n",
        "      <td> 87.10</td>\n",
        "      <td> 87.85</td>\n",
        "      <td> 0.75</td>\n",
        "    </tr>\n",
        "    <tr>\n",
        "      <th>2</th>\n",
        "      <td>  GBGJ01016758:FREEBAYES:SNP:539</td>\n",
        "      <td>  539</td>\n",
        "      <td> A</td>\n",
        "      <td> G</td>\n",
        "      <td> 111</td>\n",
        "      <td>    CTCAGGTGCAAGTCCTGAAG</td>\n",
        "      <td>      AACCATCTCCCAATTTCCC</td>\n",
        "      <td> 84.15</td>\n",
        "      <td> 84.40</td>\n",
        "      <td> 0.25</td>\n",
        "    </tr>\n",
        "    <tr>\n",
        "      <th>3</th>\n",
        "      <td> GBGJ01016827:FREEBAYES:SNP:2116</td>\n",
        "      <td> 2116</td>\n",
        "      <td> T</td>\n",
        "      <td> A</td>\n",
        "      <td>  79</td>\n",
        "      <td> ACGGATCTAGATAATAGCCAAGC</td>\n",
        "      <td>      GCTCAGCATCCAGGAGTTC</td>\n",
        "      <td> 81.05</td>\n",
        "      <td> 81.20</td>\n",
        "      <td> 0.15</td>\n",
        "    </tr>\n",
        "    <tr>\n",
        "      <th>4</th>\n",
        "      <td> GBGJ01016919:FREEBAYES:SNP:1023</td>\n",
        "      <td> 1023</td>\n",
        "      <td> A</td>\n",
        "      <td> G</td>\n",
        "      <td>  99</td>\n",
        "      <td>    GCATTGCCAACATTAGAAGC</td>\n",
        "      <td>       TTCCTTCTTCAGCCGAGC</td>\n",
        "      <td> 85.30</td>\n",
        "      <td> 85.80</td>\n",
        "      <td> 0.50</td>\n",
        "    </tr>\n",
        "  </tbody>\n",
        "</table>\n",
        "</div>"
       ],
       "metadata": {},
       "output_type": "pyout",
       "prompt_number": 67,
       "text": [
        "                     SNP_Target_ID  Position Ref_base Variant_base  \\\n",
        "0   GBGJ01006046:FREEBAYES:SNP:586       586        A            C   \n",
        "1   GBGJ01014437:FREEBAYES:SNP:360       360        A            G   \n",
        "2   GBGJ01016758:FREEBAYES:SNP:539       539        A            G   \n",
        "3  GBGJ01016827:FREEBAYES:SNP:2116      2116        T            A   \n",
        "4  GBGJ01016919:FREEBAYES:SNP:1023      1023        A            G   \n",
        "\n",
        "   Amplicon_bp     PRIMER_LEFT_SEQUENCE     PRIMER_RIGHT_SEQUENCE  \\\n",
        "0          103    GCATTCATCATCAGTTTCTGC  TGAATGATGATTCTTTAGATGCTG   \n",
        "1           68     ATAAGAGCCATAAGCGGCAG      TACAATGGGTATGGCTTTGC   \n",
        "2          111     CTCAGGTGCAAGTCCTGAAG       AACCATCTCCCAATTTCCC   \n",
        "3           79  ACGGATCTAGATAATAGCCAAGC       GCTCAGCATCCAGGAGTTC   \n",
        "4           99     GCATTGCCAACATTAGAAGC        TTCCTTCTTCAGCCGAGC   \n",
        "\n",
        "   ref_melt_Tm  var_melt_Tm  Tm_difference  \n",
        "0        83.05        83.50           0.45  \n",
        "1        87.10        87.85           0.75  \n",
        "2        84.15        84.40           0.25  \n",
        "3        81.05        81.20           0.15  \n",
        "4        85.30        85.80           0.50  "
       ]
      }
     ],
     "prompt_number": 67
    },
    {
     "cell_type": "heading",
     "level": 4,
     "metadata": {},
     "source": [
      "Inspect distribution of Tm difference"
     ]
    },
    {
     "cell_type": "code",
     "collapsed": false,
     "input": [
      "HRM_primer_df.hist('Tm_difference')"
     ],
     "language": "python",
     "metadata": {},
     "outputs": [
      {
       "metadata": {},
       "output_type": "pyout",
       "prompt_number": 54,
       "text": [
        "array([[<matplotlib.axes.AxesSubplot object at 0x70ac150>]], dtype=object)"
       ]
      },
      {
       "metadata": {},
       "output_type": "display_data",
       "png": "[encoded data removed]",
       "text": [
        "<matplotlib.figure.Figure at 0x8238e50>"
       ]
      }
     ],
     "prompt_number": 54
    },
    {
     "cell_type": "heading",
     "level": 3,
     "metadata": {},
     "source": [
      "Tabulate Sets with higher Tm differences"
     ]
    },
    {
     "cell_type": "code",
     "collapsed": false,
     "input": [
      "HRM_primer_df[HRM_primer_df.Tm_difference > 0.4]"
     ],
     "language": "python",
     "metadata": {},
     "outputs": [
      {
       "html": [
        "<div style=\"max-height:1000px;max-width:1500px;overflow:auto;\">\n",
        "<table border=\"1\" class=\"dataframe\">\n",
        "  <thead>\n",
        "    <tr style=\"text-align: right;\">\n",
        "      <th></th>\n",
        "      <th>SNP_Target_ID</th>\n",
        "      <th>Position</th>\n",
        "      <th>Ref_base</th>\n",
        "      <th>Variant_base</th>\n",
        "      <th>Amplicon_bp</th>\n",
        "      <th>PRIMER_LEFT_SEQUENCE</th>\n",
        "      <th>PRIMER_RIGHT_SEQUENCE</th>\n",
        "      <th>ref_melt_Tm</th>\n",
        "      <th>var_melt_Tm</th>\n",
        "      <th>Tm_difference</th>\n",
        "    </tr>\n",
        "  </thead>\n",
        "  <tbody>\n",
        "    <tr>\n",
        "      <th>0 </th>\n",
        "      <td>     GBGJ01006046:FREEBAYES:SNP:586</td>\n",
        "      <td>  586</td>\n",
        "      <td>     A</td>\n",
        "      <td>     C</td>\n",
        "      <td> 103</td>\n",
        "      <td>   GCATTCATCATCAGTTTCTGC</td>\n",
        "      <td> TGAATGATGATTCTTTAGATGCTG</td>\n",
        "      <td> 83.05</td>\n",
        "      <td> 83.50</td>\n",
        "      <td> 0.45</td>\n",
        "    </tr>\n",
        "    <tr>\n",
        "      <th>1 </th>\n",
        "      <td>     GBGJ01014437:FREEBAYES:SNP:360</td>\n",
        "      <td>  360</td>\n",
        "      <td>     A</td>\n",
        "      <td>     G</td>\n",
        "      <td>  68</td>\n",
        "      <td>    ATAAGAGCCATAAGCGGCAG</td>\n",
        "      <td>     TACAATGGGTATGGCTTTGC</td>\n",
        "      <td> 87.10</td>\n",
        "      <td> 87.85</td>\n",
        "      <td> 0.75</td>\n",
        "    </tr>\n",
        "    <tr>\n",
        "      <th>4 </th>\n",
        "      <td>    GBGJ01016919:FREEBAYES:SNP:1023</td>\n",
        "      <td> 1023</td>\n",
        "      <td>     A</td>\n",
        "      <td>     G</td>\n",
        "      <td>  99</td>\n",
        "      <td>    GCATTGCCAACATTAGAAGC</td>\n",
        "      <td>       TTCCTTCTTCAGCCGAGC</td>\n",
        "      <td> 85.30</td>\n",
        "      <td> 85.80</td>\n",
        "      <td> 0.50</td>\n",
        "    </tr>\n",
        "    <tr>\n",
        "      <th>7 </th>\n",
        "      <td>    GBGJ01016940:FREEBAYES:SNP:3197</td>\n",
        "      <td> 3197</td>\n",
        "      <td>     T</td>\n",
        "      <td>     C</td>\n",
        "      <td> 116</td>\n",
        "      <td>    TTGTTCTCAATGACAAGCCC</td>\n",
        "      <td>     TGCAAGAGAGAATGAAAGCG</td>\n",
        "      <td> 86.50</td>\n",
        "      <td> 87.15</td>\n",
        "      <td> 0.65</td>\n",
        "    </tr>\n",
        "    <tr>\n",
        "      <th>9 </th>\n",
        "      <td>    GBGJ01019753:FREEBAYES:SNP:3637</td>\n",
        "      <td> 3637</td>\n",
        "      <td>     A</td>\n",
        "      <td>     G</td>\n",
        "      <td>  92</td>\n",
        "      <td>    ATCCTTTACTCAAATCGCCG</td>\n",
        "      <td>     ATACAGCGAACAGGCAGTTG</td>\n",
        "      <td> 88.20</td>\n",
        "      <td> 88.85</td>\n",
        "      <td> 0.65</td>\n",
        "    </tr>\n",
        "    <tr>\n",
        "      <th>11</th>\n",
        "      <td>     GBGJ01024208:FREEBAYES:SNP:138</td>\n",
        "      <td>  138</td>\n",
        "      <td>     C</td>\n",
        "      <td>     A</td>\n",
        "      <td> 114</td>\n",
        "      <td>    TAACAATCTGAATGGGCGAG</td>\n",
        "      <td>       CTGTAGGCGGCACTGTTG</td>\n",
        "      <td> 86.30</td>\n",
        "      <td> 85.75</td>\n",
        "      <td> 0.55</td>\n",
        "    </tr>\n",
        "    <tr>\n",
        "      <th>14</th>\n",
        "      <td>     GBGJ01025807:FREEBAYES:SNP:623</td>\n",
        "      <td>  623</td>\n",
        "      <td>     G</td>\n",
        "      <td>     A</td>\n",
        "      <td> 109</td>\n",
        "      <td>  CTATGGAAAGGTCTTCATCGTC</td>\n",
        "      <td>     GCCAATGGTAACTCAAGTGC</td>\n",
        "      <td> 83.70</td>\n",
        "      <td> 83.15</td>\n",
        "      <td> 0.55</td>\n",
        "    </tr>\n",
        "    <tr>\n",
        "      <th>17</th>\n",
        "      <td>    GBGJ01028303:FREEBAYES:SNP:1260</td>\n",
        "      <td> 1260</td>\n",
        "      <td>     A</td>\n",
        "      <td>     G</td>\n",
        "      <td>  92</td>\n",
        "      <td>    ACAACAACAGTGAAGGCGAC</td>\n",
        "      <td>     TGTTCTTTCGTGTTGCTTCC</td>\n",
        "      <td> 86.45</td>\n",
        "      <td> 87.15</td>\n",
        "      <td> 0.70</td>\n",
        "    </tr>\n",
        "    <tr>\n",
        "      <th>18</th>\n",
        "      <td>    GBGJ01030777:FREEBAYES:SNP:1685</td>\n",
        "      <td> 1685</td>\n",
        "      <td>     A</td>\n",
        "      <td>     G</td>\n",
        "      <td>  67</td>\n",
        "      <td>    GGATCTTGAATGGGCTTGAG</td>\n",
        "      <td>      AGATGGTGCAACCACGTTC</td>\n",
        "      <td> 83.50</td>\n",
        "      <td> 84.10</td>\n",
        "      <td> 0.60</td>\n",
        "    </tr>\n",
        "    <tr>\n",
        "      <th>23</th>\n",
        "      <td>    GBGJ01044862:FREEBAYES:SNP:2125</td>\n",
        "      <td> 2125</td>\n",
        "      <td>     A</td>\n",
        "      <td>     G</td>\n",
        "      <td>  96</td>\n",
        "      <td>    TGGAAGTGACCAATCAGAGG</td>\n",
        "      <td>     CTTGTGGAGAGCTTGCTCAG</td>\n",
        "      <td> 84.15</td>\n",
        "      <td> 84.60</td>\n",
        "      <td> 0.45</td>\n",
        "    </tr>\n",
        "    <tr>\n",
        "      <th>24</th>\n",
        "      <td>      GBGJ01045848:FREEBAYES:SNP:61</td>\n",
        "      <td>   61</td>\n",
        "      <td>     G</td>\n",
        "      <td>     A</td>\n",
        "      <td> 100</td>\n",
        "      <td>    TTGTCTTCAGCGGATACAGC</td>\n",
        "      <td>    TGGCATGTTCTTCCATAACAG</td>\n",
        "      <td> 85.60</td>\n",
        "      <td> 85.10</td>\n",
        "      <td> 0.50</td>\n",
        "    </tr>\n",
        "    <tr>\n",
        "      <th>26</th>\n",
        "      <td> GBGJ01050488:FREEBAYES:COMPLEX:275</td>\n",
        "      <td>  275</td>\n",
        "      <td> TCATT</td>\n",
        "      <td> ACATG</td>\n",
        "      <td>  71</td>\n",
        "      <td>    AGGGCATTGATAAGAGCCAG</td>\n",
        "      <td>       AAGTGCGGTCAGGAGTCG</td>\n",
        "      <td> 86.25</td>\n",
        "      <td> 86.85</td>\n",
        "      <td> 0.60</td>\n",
        "    </tr>\n",
        "    <tr>\n",
        "      <th>28</th>\n",
        "      <td>     GBGJ01050769:FREEBAYES:SNP:665</td>\n",
        "      <td>  665</td>\n",
        "      <td>     T</td>\n",
        "      <td>     C</td>\n",
        "      <td> 119</td>\n",
        "      <td>   TGGCAGAGGCTATCAATAAGG</td>\n",
        "      <td>     TAACAGCAACGTCGTCAATG</td>\n",
        "      <td> 85.90</td>\n",
        "      <td> 86.35</td>\n",
        "      <td> 0.45</td>\n",
        "    </tr>\n",
        "    <tr>\n",
        "      <th>29</th>\n",
        "      <td>    GBGJ01051156:FREEBAYES:SNP:1029</td>\n",
        "      <td> 1029</td>\n",
        "      <td>     G</td>\n",
        "      <td>     A</td>\n",
        "      <td> 106</td>\n",
        "      <td> GGGAAATTTCTAATATCGGATCG</td>\n",
        "      <td>     TGATGCGTTTACCACCACTC</td>\n",
        "      <td> 81.65</td>\n",
        "      <td> 81.20</td>\n",
        "      <td> 0.45</td>\n",
        "    </tr>\n",
        "    <tr>\n",
        "      <th>30</th>\n",
        "      <td>     GBGJ01052439:FREEBAYES:SNP:443</td>\n",
        "      <td>  443</td>\n",
        "      <td>     A</td>\n",
        "      <td>     G</td>\n",
        "      <td> 105</td>\n",
        "      <td>   CAGCATCAACAACTTCCTGAG</td>\n",
        "      <td>     TTTGCCGACAGACTTGAAAC</td>\n",
        "      <td> 85.75</td>\n",
        "      <td> 86.20</td>\n",
        "      <td> 0.45</td>\n",
        "    </tr>\n",
        "    <tr>\n",
        "      <th>31</th>\n",
        "      <td>     GBGJ01052439:FREEBAYES:SNP:662</td>\n",
        "      <td>  662</td>\n",
        "      <td>     C</td>\n",
        "      <td>     A</td>\n",
        "      <td>  97</td>\n",
        "      <td>    TTTATCATTGCCCACGTTTC</td>\n",
        "      <td>     TTGCTGGAGGTACAGGTGTC</td>\n",
        "      <td> 88.70</td>\n",
        "      <td> 88.15</td>\n",
        "      <td> 0.55</td>\n",
        "    </tr>\n",
        "    <tr>\n",
        "      <th>32</th>\n",
        "      <td>    GBGJ01056091:FREEBAYES:SNP:1720</td>\n",
        "      <td> 1720</td>\n",
        "      <td>     T</td>\n",
        "      <td>     C</td>\n",
        "      <td>  77</td>\n",
        "      <td>    GAGACCTCGACGAGTCAGTG</td>\n",
        "      <td>     TCCTGTTACCTGAAAGCACG</td>\n",
        "      <td> 86.20</td>\n",
        "      <td> 86.80</td>\n",
        "      <td> 0.60</td>\n",
        "    </tr>\n",
        "    <tr>\n",
        "      <th>33</th>\n",
        "      <td>    GBGJ01057040:FREEBAYES:SNP:1588</td>\n",
        "      <td> 1588</td>\n",
        "      <td>     G</td>\n",
        "      <td>     A</td>\n",
        "      <td>  61</td>\n",
        "      <td>      TGAAGAAGCGAGTGCTGC</td>\n",
        "      <td>    AGTGTCCAAGACAACACATGC</td>\n",
        "      <td> 83.55</td>\n",
        "      <td> 82.60</td>\n",
        "      <td> 0.95</td>\n",
        "    </tr>\n",
        "    <tr>\n",
        "      <th>34</th>\n",
        "      <td>     GBGJ01057802:FREEBAYES:SNP:605</td>\n",
        "      <td>  605</td>\n",
        "      <td>     G</td>\n",
        "      <td>     A</td>\n",
        "      <td>  78</td>\n",
        "      <td>    AAGGCCTGTATTTGCTGAAG</td>\n",
        "      <td>     CACTGTGTCTGCATCGTCTC</td>\n",
        "      <td> 85.55</td>\n",
        "      <td> 84.85</td>\n",
        "      <td> 0.70</td>\n",
        "    </tr>\n",
        "    <tr>\n",
        "      <th>37</th>\n",
        "      <td>    GBGJ01058478:FREEBAYES:SNP:2076</td>\n",
        "      <td> 2076</td>\n",
        "      <td>     C</td>\n",
        "      <td>     T</td>\n",
        "      <td> 110</td>\n",
        "      <td>    CCAAGAATTGAAGGTTGTCG</td>\n",
        "      <td>  TCAGACCATTGATATGAATCAGG</td>\n",
        "      <td> 82.75</td>\n",
        "      <td> 82.30</td>\n",
        "      <td> 0.45</td>\n",
        "    </tr>\n",
        "    <tr>\n",
        "      <th>38</th>\n",
        "      <td>    GBGJ01061005:FREEBAYES:MNP:1501</td>\n",
        "      <td> 1501</td>\n",
        "      <td>    AA</td>\n",
        "      <td>    GT</td>\n",
        "      <td>  96</td>\n",
        "      <td>    AGACGGCTTGGTGAAGAAAC</td>\n",
        "      <td>     GTATTGGGAAGGATCAACGC</td>\n",
        "      <td> 84.70</td>\n",
        "      <td> 85.15</td>\n",
        "      <td> 0.45</td>\n",
        "    </tr>\n",
        "    <tr>\n",
        "      <th>40</th>\n",
        "      <td>     GBGJ01062380:FREEBAYES:SNP:463</td>\n",
        "      <td>  463</td>\n",
        "      <td>     G</td>\n",
        "      <td>     A</td>\n",
        "      <td>  60</td>\n",
        "      <td>    GGGTTGTTCTCCTTCAAAGC</td>\n",
        "      <td>     GCGTGGTTAATTTGTTGCTG</td>\n",
        "      <td> 82.45</td>\n",
        "      <td> 81.65</td>\n",
        "      <td> 0.80</td>\n",
        "    </tr>\n",
        "    <tr>\n",
        "      <th>42</th>\n",
        "      <td>    GBGJ01071533:FREEBAYES:SNP:1249</td>\n",
        "      <td> 1249</td>\n",
        "      <td>     T</td>\n",
        "      <td>     C</td>\n",
        "      <td>  76</td>\n",
        "      <td>    TTGGAAACAATGAGCAAAGC</td>\n",
        "      <td>     GCAGAATATCACAATTGCCC</td>\n",
        "      <td> 83.05</td>\n",
        "      <td> 83.70</td>\n",
        "      <td> 0.65</td>\n",
        "    </tr>\n",
        "    <tr>\n",
        "      <th>43</th>\n",
        "      <td>    GBGJ01074952:FREEBAYES:SNP:3540</td>\n",
        "      <td> 3540</td>\n",
        "      <td>     A</td>\n",
        "      <td>     G</td>\n",
        "      <td> 115</td>\n",
        "      <td>    CGAAGGGTCCTTTCAGAATC</td>\n",
        "      <td>     CAGGTCTGCCATAAGTGCTG</td>\n",
        "      <td> 85.20</td>\n",
        "      <td> 85.65</td>\n",
        "      <td> 0.45</td>\n",
        "    </tr>\n",
        "    <tr>\n",
        "      <th>45</th>\n",
        "      <td>     GBGJ01077949:FREEBAYES:SNP:403</td>\n",
        "      <td>  403</td>\n",
        "      <td>     T</td>\n",
        "      <td>     C</td>\n",
        "      <td>  96</td>\n",
        "      <td>  GAATCGGGTCTCTATACTTCGG</td>\n",
        "      <td>     AAAGCCCTTGATCTTCCATC</td>\n",
        "      <td> 86.75</td>\n",
        "      <td> 87.40</td>\n",
        "      <td> 0.65</td>\n",
        "    </tr>\n",
        "    <tr>\n",
        "      <th>47</th>\n",
        "      <td>     GBGJ01078845:FREEBAYES:SNP:928</td>\n",
        "      <td>  928</td>\n",
        "      <td>     G</td>\n",
        "      <td>     A</td>\n",
        "      <td> 115</td>\n",
        "      <td>     AATTGATCATCGCTGGTGC</td>\n",
        "      <td>   TCCACTAATGTGAGCCATATCC</td>\n",
        "      <td> 86.25</td>\n",
        "      <td> 85.75</td>\n",
        "      <td> 0.50</td>\n",
        "    </tr>\n",
        "    <tr>\n",
        "      <th>48</th>\n",
        "      <td>    GBGJ01078887:FREEBAYES:SNP:1182</td>\n",
        "      <td> 1182</td>\n",
        "      <td>     A</td>\n",
        "      <td>     G</td>\n",
        "      <td> 117</td>\n",
        "      <td>    CTCGGCATAAATTGGGAAAC</td>\n",
        "      <td>     TATTGCTCATGCGAGAAAGG</td>\n",
        "      <td> 89.15</td>\n",
        "      <td> 89.80</td>\n",
        "      <td> 0.65</td>\n",
        "    </tr>\n",
        "    <tr>\n",
        "      <th>49</th>\n",
        "      <td>    GBGJ01078921:FREEBAYES:SNP:2896</td>\n",
        "      <td> 2896</td>\n",
        "      <td>     A</td>\n",
        "      <td>     G</td>\n",
        "      <td> 106</td>\n",
        "      <td> AAGAAGCAGGTATTTCTCCACTG</td>\n",
        "      <td>    CATGAATGAACTTGTAGGCCC</td>\n",
        "      <td> 83.95</td>\n",
        "      <td> 84.45</td>\n",
        "      <td> 0.50</td>\n",
        "    </tr>\n",
        "    <tr>\n",
        "      <th>51</th>\n",
        "      <td>     GBGJ01079647:FREEBAYES:SNP:886</td>\n",
        "      <td>  886</td>\n",
        "      <td>     A</td>\n",
        "      <td>     G</td>\n",
        "      <td>  85</td>\n",
        "      <td>    GTTGCCGTTCATTTCATTTG</td>\n",
        "      <td>     GCCATGTCAATATCTCCGTG</td>\n",
        "      <td> 86.50</td>\n",
        "      <td> 87.00</td>\n",
        "      <td> 0.50</td>\n",
        "    </tr>\n",
        "    <tr>\n",
        "      <th>52</th>\n",
        "      <td>     GBGJ01082851:FREEBAYES:SNP:446</td>\n",
        "      <td>  446</td>\n",
        "      <td>     A</td>\n",
        "      <td>     G</td>\n",
        "      <td>  63</td>\n",
        "      <td>    CTCCTCCCTACGAGAACCAC</td>\n",
        "      <td>     AAACCACCGAAATATCCACC</td>\n",
        "      <td> 85.60</td>\n",
        "      <td> 86.20</td>\n",
        "      <td> 0.60</td>\n",
        "    </tr>\n",
        "    <tr>\n",
        "      <th>54</th>\n",
        "      <td>     GBGJ01083911:FREEBAYES:SNP:899</td>\n",
        "      <td>  899</td>\n",
        "      <td>     G</td>\n",
        "      <td>     A</td>\n",
        "      <td> 117</td>\n",
        "      <td>  CCGGTACTATAATCATCCAAGC</td>\n",
        "      <td>     TTCATGGGATGAGTCGTAGG</td>\n",
        "      <td> 86.05</td>\n",
        "      <td> 85.55</td>\n",
        "      <td> 0.50</td>\n",
        "    </tr>\n",
        "    <tr>\n",
        "      <th>55</th>\n",
        "      <td>     GBGJ01084423:FREEBAYES:SNP:813</td>\n",
        "      <td>  813</td>\n",
        "      <td>     G</td>\n",
        "      <td>     T</td>\n",
        "      <td> 119</td>\n",
        "      <td>    ACGACGTGGTTTAAGAGTCG</td>\n",
        "      <td>    TGTAAAGCATCTCCGATCAAC</td>\n",
        "      <td> 83.00</td>\n",
        "      <td> 82.55</td>\n",
        "      <td> 0.45</td>\n",
        "    </tr>\n",
        "    <tr>\n",
        "      <th>56</th>\n",
        "      <td>    GBGJ01085162:FREEBAYES:SNP:1476</td>\n",
        "      <td> 1476</td>\n",
        "      <td>     T</td>\n",
        "      <td>     C</td>\n",
        "      <td>  89</td>\n",
        "      <td>    TTTCTTGTGGAACCATGCAG</td>\n",
        "      <td>  CCTTCTTTACACGGTACAAGGTC</td>\n",
        "      <td> 87.20</td>\n",
        "      <td> 87.75</td>\n",
        "      <td> 0.55</td>\n",
        "    </tr>\n",
        "    <tr>\n",
        "      <th>57</th>\n",
        "      <td>    GBGJ01085162:FREEBAYES:SNP:1111</td>\n",
        "      <td> 1111</td>\n",
        "      <td>     G</td>\n",
        "      <td>     T</td>\n",
        "      <td> 117</td>\n",
        "      <td>     GTGAAAGCTGCTGCTACCG</td>\n",
        "      <td>      CTCCTCTCAGCAAAGCTGC</td>\n",
        "      <td> 87.25</td>\n",
        "      <td> 86.75</td>\n",
        "      <td> 0.50</td>\n",
        "    </tr>\n",
        "    <tr>\n",
        "      <th>59</th>\n",
        "      <td>     GBGJ01086363:FREEBAYES:SNP:541</td>\n",
        "      <td>  541</td>\n",
        "      <td>     A</td>\n",
        "      <td>     G</td>\n",
        "      <td> 104</td>\n",
        "      <td>   AACTGCATTACCACCCTCAAG</td>\n",
        "      <td>     GCTCATGGTTCGATGAAGAG</td>\n",
        "      <td> 83.50</td>\n",
        "      <td> 84.10</td>\n",
        "      <td> 0.60</td>\n",
        "    </tr>\n",
        "    <tr>\n",
        "      <th>62</th>\n",
        "      <td>    GBGJ01121771:FREEBAYES:SNP:1069</td>\n",
        "      <td> 1069</td>\n",
        "      <td>     A</td>\n",
        "      <td>     G</td>\n",
        "      <td>  92</td>\n",
        "      <td>    TCAGAGGCTACCAAGACACG</td>\n",
        "      <td>     TGCCAAAGATGAAGTCAACG</td>\n",
        "      <td> 90.40</td>\n",
        "      <td> 91.05</td>\n",
        "      <td> 0.65</td>\n",
        "    </tr>\n",
        "    <tr>\n",
        "      <th>63</th>\n",
        "      <td>    GBGJ01123429:FREEBAYES:SNP:1071</td>\n",
        "      <td> 1071</td>\n",
        "      <td>     G</td>\n",
        "      <td>     A</td>\n",
        "      <td>  72</td>\n",
        "      <td>    TGGCGAGTCTCTTTGAGTTC</td>\n",
        "      <td>   AAGTATATCATTGGTTACGGCG</td>\n",
        "      <td> 85.90</td>\n",
        "      <td> 85.20</td>\n",
        "      <td> 0.70</td>\n",
        "    </tr>\n",
        "    <tr>\n",
        "      <th>65</th>\n",
        "      <td>     GBGJ01124708:FREEBAYES:SNP:765</td>\n",
        "      <td>  765</td>\n",
        "      <td>     T</td>\n",
        "      <td>     C</td>\n",
        "      <td> 116</td>\n",
        "      <td>    TGCTCATTTGGCATCAATTC</td>\n",
        "      <td>     CGGTTACAGCCCAATCTCTC</td>\n",
        "      <td> 85.70</td>\n",
        "      <td> 86.20</td>\n",
        "      <td> 0.50</td>\n",
        "    </tr>\n",
        "    <tr>\n",
        "      <th>66</th>\n",
        "      <td>         JR843357:FREEBAYES:SNP:479</td>\n",
        "      <td>  479</td>\n",
        "      <td>     A</td>\n",
        "      <td>     G</td>\n",
        "      <td>  99</td>\n",
        "      <td>    TGAtcGTGCATTGTCAGTTg</td>\n",
        "      <td>  TGATGAACCAACATTCtCACAAG</td>\n",
        "      <td> 81.75</td>\n",
        "      <td> 82.30</td>\n",
        "      <td> 0.55</td>\n",
        "    </tr>\n",
        "    <tr>\n",
        "      <th>67</th>\n",
        "      <td>         JR844780:FREEBAYES:SNP:405</td>\n",
        "      <td>  405</td>\n",
        "      <td>     A</td>\n",
        "      <td>     G</td>\n",
        "      <td> 107</td>\n",
        "      <td>    ACGAATGTTGTTTGCCATTC</td>\n",
        "      <td>     CGTTTGGTTCCATTTAAGCC</td>\n",
        "      <td> 84.80</td>\n",
        "      <td> 85.35</td>\n",
        "      <td> 0.55</td>\n",
        "    </tr>\n",
        "    <tr>\n",
        "      <th>68</th>\n",
        "      <td>         JR844971:FREEBAYES:SNP:733</td>\n",
        "      <td>  733</td>\n",
        "      <td>     G</td>\n",
        "      <td>     A</td>\n",
        "      <td>  89</td>\n",
        "      <td>    TTGTTTGCGTAGATGGGATG</td>\n",
        "      <td>  TCATATGAACAAATCTCAAACGG</td>\n",
        "      <td> 83.10</td>\n",
        "      <td> 82.30</td>\n",
        "      <td> 0.80</td>\n",
        "    </tr>\n",
        "    <tr>\n",
        "      <th>69</th>\n",
        "      <td>     JR844971:FREEBAYES:COMPLEX:260</td>\n",
        "      <td>  260</td>\n",
        "      <td> ATATA</td>\n",
        "      <td> GTATT</td>\n",
        "      <td>  84</td>\n",
        "      <td>    CCAGCTGTCTCTTCTTCACG</td>\n",
        "      <td>     AGGTaggaGAGAAACGAGCg</td>\n",
        "      <td> 85.80</td>\n",
        "      <td> 86.60</td>\n",
        "      <td> 0.80</td>\n",
        "    </tr>\n",
        "    <tr>\n",
        "      <th>71</th>\n",
        "      <td>         JR848109:FREEBAYES:SNP:367</td>\n",
        "      <td>  367</td>\n",
        "      <td>     G</td>\n",
        "      <td>     A</td>\n",
        "      <td> 117</td>\n",
        "      <td>    AGCTGGCACACACTTCACTC</td>\n",
        "      <td>     TCTTTCAtgGCTGCtGCTAc</td>\n",
        "      <td> 90.70</td>\n",
        "      <td> 90.25</td>\n",
        "      <td> 0.45</td>\n",
        "    </tr>\n",
        "    <tr>\n",
        "      <th>72</th>\n",
        "      <td>         JR848364:FREEBAYES:SNP:459</td>\n",
        "      <td>  459</td>\n",
        "      <td>     T</td>\n",
        "      <td>     C</td>\n",
        "      <td> 111</td>\n",
        "      <td>    GTGTTCCTGAGTTTGCATCG</td>\n",
        "      <td>  CTTCTCAACTTATTCACCAACCC</td>\n",
        "      <td> 83.70</td>\n",
        "      <td> 84.20</td>\n",
        "      <td> 0.50</td>\n",
        "    </tr>\n",
        "    <tr>\n",
        "      <th>74</th>\n",
        "      <td>         JR853029:FREEBAYES:SNP:179</td>\n",
        "      <td>  179</td>\n",
        "      <td>     G</td>\n",
        "      <td>     A</td>\n",
        "      <td>  80</td>\n",
        "      <td>   GTTCAGTCATACTCAATGGCG</td>\n",
        "      <td>     GCCATAGGAAGGAGATGGAG</td>\n",
        "      <td> 84.10</td>\n",
        "      <td> 83.60</td>\n",
        "      <td> 0.50</td>\n",
        "    </tr>\n",
        "    <tr>\n",
        "      <th>75</th>\n",
        "      <td>         JR853029:FREEBAYES:SNP:454</td>\n",
        "      <td>  454</td>\n",
        "      <td>     C</td>\n",
        "      <td>     T</td>\n",
        "      <td>  90</td>\n",
        "      <td>    GATGATTGGTTCCAAGATGC</td>\n",
        "      <td>     AACAACATTCATGGAAACGC</td>\n",
        "      <td> 82.25</td>\n",
        "      <td> 81.80</td>\n",
        "      <td> 0.45</td>\n",
        "    </tr>\n",
        "    <tr>\n",
        "      <th>76</th>\n",
        "      <td>         JR854600:FREEBAYES:SNP:419</td>\n",
        "      <td>  419</td>\n",
        "      <td>     A</td>\n",
        "      <td>     G</td>\n",
        "      <td> 106</td>\n",
        "      <td>    AAAGATCTTGAGGACGCCAC</td>\n",
        "      <td>     TCCAAGGTATCACCAAACCC</td>\n",
        "      <td> 92.05</td>\n",
        "      <td> 92.60</td>\n",
        "      <td> 0.55</td>\n",
        "    </tr>\n",
        "    <tr>\n",
        "      <th>77</th>\n",
        "      <td>         JR854600:FREEBAYES:MNP:141</td>\n",
        "      <td>  141</td>\n",
        "      <td>    TG</td>\n",
        "      <td>    CG</td>\n",
        "      <td> 115</td>\n",
        "      <td>   CGGGATCATTGATTTCATTTG</td>\n",
        "      <td>    TTCAGAAGTTTGGGTTTGGAG</td>\n",
        "      <td> 80.55</td>\n",
        "      <td> 81.15</td>\n",
        "      <td> 0.60</td>\n",
        "    </tr>\n",
        "    <tr>\n",
        "      <th>78</th>\n",
        "      <td>          JR861928:FREEBAYES:SNP:78</td>\n",
        "      <td>   78</td>\n",
        "      <td>     G</td>\n",
        "      <td>     A</td>\n",
        "      <td> 104</td>\n",
        "      <td>  GATACATTGAGAAACGAGAGCG</td>\n",
        "      <td>   CAAGCAATATCCAGAGCACTTc</td>\n",
        "      <td> 81.90</td>\n",
        "      <td> 81.45</td>\n",
        "      <td> 0.45</td>\n",
        "    </tr>\n",
        "  </tbody>\n",
        "</table>\n",
        "</div>"
       ],
       "metadata": {},
       "output_type": "pyout",
       "prompt_number": 55,
       "text": [
        "                         SNP_Target_ID  Position Ref_base Variant_base  \\\n",
        "0       GBGJ01006046:FREEBAYES:SNP:586       586        A            C   \n",
        "1       GBGJ01014437:FREEBAYES:SNP:360       360        A            G   \n",
        "4      GBGJ01016919:FREEBAYES:SNP:1023      1023        A            G   \n",
        "7      GBGJ01016940:FREEBAYES:SNP:3197      3197        T            C   \n",
        "9      GBGJ01019753:FREEBAYES:SNP:3637      3637        A            G   \n",
        "11      GBGJ01024208:FREEBAYES:SNP:138       138        C            A   \n",
        "14      GBGJ01025807:FREEBAYES:SNP:623       623        G            A   \n",
        "17     GBGJ01028303:FREEBAYES:SNP:1260      1260        A            G   \n",
        "18     GBGJ01030777:FREEBAYES:SNP:1685      1685        A            G   \n",
        "23     GBGJ01044862:FREEBAYES:SNP:2125      2125        A            G   \n",
        "24       GBGJ01045848:FREEBAYES:SNP:61        61        G            A   \n",
        "26  GBGJ01050488:FREEBAYES:COMPLEX:275       275    TCATT        ACATG   \n",
        "28      GBGJ01050769:FREEBAYES:SNP:665       665        T            C   \n",
        "29     GBGJ01051156:FREEBAYES:SNP:1029      1029        G            A   \n",
        "30      GBGJ01052439:FREEBAYES:SNP:443       443        A            G   \n",
        "31      GBGJ01052439:FREEBAYES:SNP:662       662        C            A   \n",
        "32     GBGJ01056091:FREEBAYES:SNP:1720      1720        T            C   \n",
        "33     GBGJ01057040:FREEBAYES:SNP:1588      1588        G            A   \n",
        "34      GBGJ01057802:FREEBAYES:SNP:605       605        G            A   \n",
        "37     GBGJ01058478:FREEBAYES:SNP:2076      2076        C            T   \n",
        "38     GBGJ01061005:FREEBAYES:MNP:1501      1501       AA           GT   \n",
        "40      GBGJ01062380:FREEBAYES:SNP:463       463        G            A   \n",
        "42     GBGJ01071533:FREEBAYES:SNP:1249      1249        T            C   \n",
        "43     GBGJ01074952:FREEBAYES:SNP:3540      3540        A            G   \n",
        "45      GBGJ01077949:FREEBAYES:SNP:403       403        T            C   \n",
        "47      GBGJ01078845:FREEBAYES:SNP:928       928        G            A   \n",
        "48     GBGJ01078887:FREEBAYES:SNP:1182      1182        A            G   \n",
        "49     GBGJ01078921:FREEBAYES:SNP:2896      2896        A            G   \n",
        "51      GBGJ01079647:FREEBAYES:SNP:886       886        A            G   \n",
        "52      GBGJ01082851:FREEBAYES:SNP:446       446        A            G   \n",
        "54      GBGJ01083911:FREEBAYES:SNP:899       899        G            A   \n",
        "55      GBGJ01084423:FREEBAYES:SNP:813       813        G            T   \n",
        "56     GBGJ01085162:FREEBAYES:SNP:1476      1476        T            C   \n",
        "57     GBGJ01085162:FREEBAYES:SNP:1111      1111        G            T   \n",
        "59      GBGJ01086363:FREEBAYES:SNP:541       541        A            G   \n",
        "62     GBGJ01121771:FREEBAYES:SNP:1069      1069        A            G   \n",
        "63     GBGJ01123429:FREEBAYES:SNP:1071      1071        G            A   \n",
        "65      GBGJ01124708:FREEBAYES:SNP:765       765        T            C   \n",
        "66          JR843357:FREEBAYES:SNP:479       479        A            G   \n",
        "67          JR844780:FREEBAYES:SNP:405       405        A            G   \n",
        "68          JR844971:FREEBAYES:SNP:733       733        G            A   \n",
        "69      JR844971:FREEBAYES:COMPLEX:260       260    ATATA        GTATT   \n",
        "71          JR848109:FREEBAYES:SNP:367       367        G            A   \n",
        "72          JR848364:FREEBAYES:SNP:459       459        T            C   \n",
        "74          JR853029:FREEBAYES:SNP:179       179        G            A   \n",
        "75          JR853029:FREEBAYES:SNP:454       454        C            T   \n",
        "76          JR854600:FREEBAYES:SNP:419       419        A            G   \n",
        "77          JR854600:FREEBAYES:MNP:141       141       TG           CG   \n",
        "78           JR861928:FREEBAYES:SNP:78        78        G            A   \n",
        "\n",
        "    Amplicon_bp     PRIMER_LEFT_SEQUENCE     PRIMER_RIGHT_SEQUENCE  \\\n",
        "0           103    GCATTCATCATCAGTTTCTGC  TGAATGATGATTCTTTAGATGCTG   \n",
        "1            68     ATAAGAGCCATAAGCGGCAG      TACAATGGGTATGGCTTTGC   \n",
        "4            99     GCATTGCCAACATTAGAAGC        TTCCTTCTTCAGCCGAGC   \n",
        "7           116     TTGTTCTCAATGACAAGCCC      TGCAAGAGAGAATGAAAGCG   \n",
        "9            92     ATCCTTTACTCAAATCGCCG      ATACAGCGAACAGGCAGTTG   \n",
        "11          114     TAACAATCTGAATGGGCGAG        CTGTAGGCGGCACTGTTG   \n",
        "14          109   CTATGGAAAGGTCTTCATCGTC      GCCAATGGTAACTCAAGTGC   \n",
        "17           92     ACAACAACAGTGAAGGCGAC      TGTTCTTTCGTGTTGCTTCC   \n",
        "18           67     GGATCTTGAATGGGCTTGAG       AGATGGTGCAACCACGTTC   \n",
        "23           96     TGGAAGTGACCAATCAGAGG      CTTGTGGAGAGCTTGCTCAG   \n",
        "24          100     TTGTCTTCAGCGGATACAGC     TGGCATGTTCTTCCATAACAG   \n",
        "26           71     AGGGCATTGATAAGAGCCAG        AAGTGCGGTCAGGAGTCG   \n",
        "28          119    TGGCAGAGGCTATCAATAAGG      TAACAGCAACGTCGTCAATG   \n",
        "29          106  GGGAAATTTCTAATATCGGATCG      TGATGCGTTTACCACCACTC   \n",
        "30          105    CAGCATCAACAACTTCCTGAG      TTTGCCGACAGACTTGAAAC   \n",
        "31           97     TTTATCATTGCCCACGTTTC      TTGCTGGAGGTACAGGTGTC   \n",
        "32           77     GAGACCTCGACGAGTCAGTG      TCCTGTTACCTGAAAGCACG   \n",
        "33           61       TGAAGAAGCGAGTGCTGC     AGTGTCCAAGACAACACATGC   \n",
        "34           78     AAGGCCTGTATTTGCTGAAG      CACTGTGTCTGCATCGTCTC   \n",
        "37          110     CCAAGAATTGAAGGTTGTCG   TCAGACCATTGATATGAATCAGG   \n",
        "38           96     AGACGGCTTGGTGAAGAAAC      GTATTGGGAAGGATCAACGC   \n",
        "40           60     GGGTTGTTCTCCTTCAAAGC      GCGTGGTTAATTTGTTGCTG   \n",
        "42           76     TTGGAAACAATGAGCAAAGC      GCAGAATATCACAATTGCCC   \n",
        "43          115     CGAAGGGTCCTTTCAGAATC      CAGGTCTGCCATAAGTGCTG   \n",
        "45           96   GAATCGGGTCTCTATACTTCGG      AAAGCCCTTGATCTTCCATC   \n",
        "47          115      AATTGATCATCGCTGGTGC    TCCACTAATGTGAGCCATATCC   \n",
        "48          117     CTCGGCATAAATTGGGAAAC      TATTGCTCATGCGAGAAAGG   \n",
        "49          106  AAGAAGCAGGTATTTCTCCACTG     CATGAATGAACTTGTAGGCCC   \n",
        "51           85     GTTGCCGTTCATTTCATTTG      GCCATGTCAATATCTCCGTG   \n",
        "52           63     CTCCTCCCTACGAGAACCAC      AAACCACCGAAATATCCACC   \n",
        "54          117   CCGGTACTATAATCATCCAAGC      TTCATGGGATGAGTCGTAGG   \n",
        "55          119     ACGACGTGGTTTAAGAGTCG     TGTAAAGCATCTCCGATCAAC   \n",
        "56           89     TTTCTTGTGGAACCATGCAG   CCTTCTTTACACGGTACAAGGTC   \n",
        "57          117      GTGAAAGCTGCTGCTACCG       CTCCTCTCAGCAAAGCTGC   \n",
        "59          104    AACTGCATTACCACCCTCAAG      GCTCATGGTTCGATGAAGAG   \n",
        "62           92     TCAGAGGCTACCAAGACACG      TGCCAAAGATGAAGTCAACG   \n",
        "63           72     TGGCGAGTCTCTTTGAGTTC    AAGTATATCATTGGTTACGGCG   \n",
        "65          116     TGCTCATTTGGCATCAATTC      CGGTTACAGCCCAATCTCTC   \n",
        "66           99     TGAtcGTGCATTGTCAGTTg   TGATGAACCAACATTCtCACAAG   \n",
        "67          107     ACGAATGTTGTTTGCCATTC      CGTTTGGTTCCATTTAAGCC   \n",
        "68           89     TTGTTTGCGTAGATGGGATG   TCATATGAACAAATCTCAAACGG   \n",
        "69           84     CCAGCTGTCTCTTCTTCACG      AGGTaggaGAGAAACGAGCg   \n",
        "71          117     AGCTGGCACACACTTCACTC      TCTTTCAtgGCTGCtGCTAc   \n",
        "72          111     GTGTTCCTGAGTTTGCATCG   CTTCTCAACTTATTCACCAACCC   \n",
        "74           80    GTTCAGTCATACTCAATGGCG      GCCATAGGAAGGAGATGGAG   \n",
        "75           90     GATGATTGGTTCCAAGATGC      AACAACATTCATGGAAACGC   \n",
        "76          106     AAAGATCTTGAGGACGCCAC      TCCAAGGTATCACCAAACCC   \n",
        "77          115    CGGGATCATTGATTTCATTTG     TTCAGAAGTTTGGGTTTGGAG   \n",
        "78          104   GATACATTGAGAAACGAGAGCG    CAAGCAATATCCAGAGCACTTc   \n",
        "\n",
        "    ref_melt_Tm  var_melt_Tm  Tm_difference  \n",
        "0         83.05        83.50           0.45  \n",
        "1         87.10        87.85           0.75  \n",
        "4         85.30        85.80           0.50  \n",
        "7         86.50        87.15           0.65  \n",
        "9         88.20        88.85           0.65  \n",
        "11        86.30        85.75           0.55  \n",
        "14        83.70        83.15           0.55  \n",
        "17        86.45        87.15           0.70  \n",
        "18        83.50        84.10           0.60  \n",
        "23        84.15        84.60           0.45  \n",
        "24        85.60        85.10           0.50  \n",
        "26        86.25        86.85           0.60  \n",
        "28        85.90        86.35           0.45  \n",
        "29        81.65        81.20           0.45  \n",
        "30        85.75        86.20           0.45  \n",
        "31        88.70        88.15           0.55  \n",
        "32        86.20        86.80           0.60  \n",
        "33        83.55        82.60           0.95  \n",
        "34        85.55        84.85           0.70  \n",
        "37        82.75        82.30           0.45  \n",
        "38        84.70        85.15           0.45  \n",
        "40        82.45        81.65           0.80  \n",
        "42        83.05        83.70           0.65  \n",
        "43        85.20        85.65           0.45  \n",
        "45        86.75        87.40           0.65  \n",
        "47        86.25        85.75           0.50  \n",
        "48        89.15        89.80           0.65  \n",
        "49        83.95        84.45           0.50  \n",
        "51        86.50        87.00           0.50  \n",
        "52        85.60        86.20           0.60  \n",
        "54        86.05        85.55           0.50  \n",
        "55        83.00        82.55           0.45  \n",
        "56        87.20        87.75           0.55  \n",
        "57        87.25        86.75           0.50  \n",
        "59        83.50        84.10           0.60  \n",
        "62        90.40        91.05           0.65  \n",
        "63        85.90        85.20           0.70  \n",
        "65        85.70        86.20           0.50  \n",
        "66        81.75        82.30           0.55  \n",
        "67        84.80        85.35           0.55  \n",
        "68        83.10        82.30           0.80  \n",
        "69        85.80        86.60           0.80  \n",
        "71        90.70        90.25           0.45  \n",
        "72        83.70        84.20           0.50  \n",
        "74        84.10        83.60           0.50  \n",
        "75        82.25        81.80           0.45  \n",
        "76        92.05        92.60           0.55  \n",
        "77        80.55        81.15           0.60  \n",
        "78        81.90        81.45           0.45  "
       ]
      }
     ],
     "prompt_number": 55
    },
    {
     "cell_type": "markdown",
     "metadata": {},
     "source": [
      "Form a contig column and check number of unique contigs"
     ]
    },
    {
     "cell_type": "code",
     "collapsed": false,
     "input": [
      "HRM_primer_df['Contig']=[X.split(\":\")[0] for X in HRM_primer_df.SNP_Target_ID]\n",
      "HRM_primer_df.Contig.nunique()"
     ],
     "language": "python",
     "metadata": {},
     "outputs": [
      {
       "metadata": {},
       "output_type": "pyout",
       "prompt_number": 57,
       "text": [
        "63"
       ]
      }
     ],
     "prompt_number": 57
    },
    {
     "cell_type": "heading",
     "level": 3,
     "metadata": {},
     "source": [
      "Write primer sets with a higher predicted Tm difference out to a csv file "
     ]
    },
    {
     "cell_type": "code",
     "collapsed": false,
     "input": [
      "HRM_primer_df[HRM_primer_df.Tm_difference > 0.6].to_csv('HRM_primers.csv',index=False)"
     ],
     "language": "python",
     "metadata": {},
     "outputs": [],
     "prompt_number": 64
    },
    {
     "cell_type": "markdown",
     "metadata": {},
     "source": [
      "Write notebook to a (public) gist using the Ruby gem from https://github.com/ConradIrwin/jist "
     ]
    },
    {
     "cell_type": "code",
     "collapsed": false,
     "input": [
      "!gist -d  \"Design of HRM Assays for Validation of SNPs revealed by Poolseq\"  HRM\\ Design\\ from\\ BSA\\ RNASEQ\\ Variants.ipynb"
     ],
     "language": "python",
     "metadata": {},
     "outputs": [
      {
       "output_type": "stream",
       "stream": "stdout",
       "text": [
        "https://gist.github.com/9713fdbbbcc4500f73b7\r\n"
       ]
      }
     ],
     "prompt_number": 59
    },
    {
     "cell_type": "markdown",
     "metadata": {},
     "source": [
      "Update this notebook"
     ]
    },
    {
     "cell_type": "code",
     "collapsed": false,
     "input": [
      "!gist -u https://gist.github.com/9713fdbbbcc4500f73b7 HRM\\ Design\\ from\\ BSA\\ RNASEQ\\ Variants.ipynb"
     ],
     "language": "python",
     "metadata": {},
     "outputs": [
      {
       "output_type": "stream",
       "stream": "stdout",
       "text": [
        "https://gist.github.com/9713fdbbbcc4500f73b7\r\n"
       ]
      }
     ],
     "prompt_number": 66
    }
   ],
   "metadata": {}
  }
 ]
}