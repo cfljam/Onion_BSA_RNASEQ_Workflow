{
 "metadata": {
  "name": "",
  "signature": "sha256:605ffac55b0f636da16775b5cd12d905b2ac1f341720745dfeb7ef997df758ad"
 },
 "nbformat": 3,
 "nbformat_minor": 0,
 "worksheets": [
  {
   "cells": [
    {
     "cell_type": "markdown",
     "metadata": {},
     "source": [
      "Form a list of significant contigs from the bed file"
     ]
    },
    {
     "cell_type": "code",
     "collapsed": false,
     "input": [
      "%sc sig_contigs=awk 'NR > 1 {print $1}' ../02.primer_design/sig_contigs.bed "
     ],
     "language": "python",
     "metadata": {},
     "outputs": [],
     "prompt_number": 13
    },
    {
     "cell_type": "markdown",
     "metadata": {},
     "source": [
      "Form a fasta file like https://gist.github.com/brentp/477969"
     ]
    },
    {
     "cell_type": "code",
     "collapsed": false,
     "input": [
      "from Bio import SeqIO                                                               \n",
      "import sys                                                                          \n",
      "fasta_file='/Data/BSARNASEQ/combined_CUDH2150_TSA.fasta'                                                                                                                \n",
      "seqiter = SeqIO.parse(open(fasta_file), 'fasta')                                    \n",
      "SeqIO.write((seq for seq in seqiter if seq.id  in sig_contigs), \\\n",
      "            'sig_contigs.fasta', \"fasta\")"
     ],
     "language": "python",
     "metadata": {},
     "outputs": [
      {
       "metadata": {},
       "output_type": "pyout",
       "prompt_number": 18,
       "text": [
        "263"
       ]
      }
     ],
     "prompt_number": 18
    },
    {
     "cell_type": "code",
     "collapsed": false,
     "input": [
      "! ls -lh"
     ],
     "language": "python",
     "metadata": {},
     "outputs": [
      {
       "output_type": "stream",
       "stream": "stdout",
       "text": [
        "total 2640\r\n",
        "-rw-r--r--  1 johnmccallum  staff   2.9K 22 Jun 10:13 Blast analysis of significant contigs.ipynb\r\n",
        "-rw-r--r--  1 johnmccallum  staff   929K 22 Jun 11:35 blastResult.xml\r\n",
        "-rw-r--r--  1 johnmccallum  staff   382K 22 Jun 09:39 sig_contigs.fasta\r\n"
       ]
      }
     ],
     "prompt_number": 23
    },
    {
     "cell_type": "markdown",
     "metadata": {},
     "source": [
      "Parse with bioPython see http://biopython.org/DIST/docs/tutorial/Tutorial.html#sec100"
     ]
    },
    {
     "cell_type": "code",
     "collapsed": false,
     "input": [
      "from Bio.Blast import NCBIXML\n",
      "result_handle = open(\"blastResult.xml\")\n",
      "blast_records = NCBIXML.parse(result_handle)"
     ],
     "language": "python",
     "metadata": {},
     "outputs": [],
     "prompt_number": 59
    },
    {
     "cell_type": "code",
     "collapsed": false,
     "input": [
      "for record in blast_records:\n",
      "    if len(record.descriptions) > 0:\n",
      "        print record.query,record.descriptions[0],record.descriptions[1]\n"
     ],
     "language": "python",
     "metadata": {},
     "outputs": [
      {
       "output_type": "stream",
       "stream": "stdout",
       "text": [
        "JR843782 gi|475587941|gb|EMT20708.1| Protein SRG1 [Aegilops tauschii]       544.0  1.32575e-72 gi|357125076|ref|XP_003564221.1| PREDICTED: protein SRG1-like [Brachypodium distachyon] 537.0  1.56514e-72\n",
        "JR843350 gi|573948235|ref|XP_006656424.1| PREDICTED: xyloglucan endotransglucosylase/hydrolase protein 22-like [Oryza brachyantha] 980.0  3.07759e-127 gi|1890577|emb|CAA63663.1| xyloglucan endotransglycosylase (XET) [Hordeum vulgare subsp. vulgare] >gi|326501270|dbj|BAJ98866.1| predicted protein [Hordeum vulgare subsp. vulgare] 976.0  9.34847e-127\n",
        "JR844698 gi|514755367|ref|XP_004963262.1| PREDICTED: fatty acid 2-hydroxylase 1-like isoform X1 [Setaria italica] 954.0  1.1774e-125 gi|573926288|ref|XP_006650678.1| PREDICTED: fatty acid 2-hydroxylase 1-like [Oryza brachyantha] 951.0  3.25875e-125\n",
        "JR848109 gi|590677141|ref|XP_007039937.1| Plant invertase/pectin methylesterase inhibitor superfamily protein, putative [Theobroma cacao] >gi|508777182|gb|EOY24438.1| Plant invertase/pectin methylesterase inhibitor superfamily protein, putative [Theobroma cacao] 495.0  4.1544e-57 gi|255539739|ref|XP_002510934.1| 21 kDa protein precursor, putative [Ricinus communis] >gi|223550049|gb|EEF51536.1| 21 kDa protein precursor, putative [Ricinus communis] 452.0  6.46827e-51\n",
        "JR848171 gi|359497525|ref|XP_003635553.1| PREDICTED: tubulin alpha-1 chain-like, partial [Vitis vinifera] 1137.0  1.61948e-152 gi|57867859|gb|AAW57309.1| alpha-tubulin [Ceratopteris richardii]  1130.0  7.74839e-152\n",
        "JR848237"
       ]
      },
      {
       "output_type": "stream",
       "stream": "stdout",
       "text": [
        " gi|629102401|gb|KCW67870.1| hypothetical protein EUGRSUZ_F01586 [Eucalyptus grandis] 679.0  8.51756e-84 gi|566173125|ref|XP_002307665.2| hypothetical protein POPTR_0005s25080g [Populus trichocarpa] >gi|118482270|gb|ABK93062.1| unknown [Populus trichocarpa] >gi|118485473|gb|ABK94592.1| unknown [Populus trichocarpa] >gi|550339697|gb|EEE94661.2| hypothetical protein POPTR_0005s25080g [Populus trichocarpa] 672.0  1.13002e-82\n",
        "JR844711 gi|334878369|gb|ADB28989.2| copper/zinc superoxide dismutase, partial [Allium sativum] 741.0  1.0018e-94 gi|586765866|ref|XP_006855398.1| hypothetical protein AMTR_s00057p00145850 [Amborella trichopoda] >gi|548859164|gb|ERN16865.1| hypothetical protein AMTR_s00057p00145850 [Amborella trichopoda] 695.0  1.83502e-87\n",
        "JR844716 gi|47026845|gb|AAT08648.1| ADP-ribosylation factor [Hyacinthus orientalis] 964.0  7.45131e-128 gi|357495837|ref|XP_003618207.1| ADP-ribosylation factor [Medicago truncatula] >gi|355493222|gb|AES74425.1| ADP-ribosylation factor [Medicago truncatula] 968.0  1.07763e-127\n",
        "JR843289 gi|357135226|ref|XP_003569212.1| PREDICTED: ras-related protein RIC1-like [Brachypodium distachyon] 1007.0  1.81278e-134 gi|115437604|ref|NP_001043336.1| Os01g0558600 [Oryza sativa Japonica Group] >gi|109940139|sp|P40392.2|RIC1_ORYSJ RecName: Full=Ras-related protein RIC1 [Oryza sativa Japonica Group] >gi|57899331|dbj|BAD87942.1| Ras-related protein RIC1 [Oryza sativa Japonica Group] >gi|57900421|dbj|BAD87657.1| Ras-related protein RIC1 [Oryza sativa Japonica Group] >gi|113532867|dbj|BAF05250.1| Os01g0558600 [Oryza sativa Japonica Group] >gi|125526416|gb|EAY74530.1| hypothetical protein OsI_02420 [Oryza sativa Indica Group] >gi|125570818|gb|EAZ12333.1| hypothetical protein OsJ_02222 [Oryza sativa Japonica Group] >gi|215769435|dbj|BAH01664.1| unnamed protein product [Oryza sativa Japonica Group] 1002.0  7.63519e-134\n",
        "JR848232 gi|47026912|gb|AAT08677.1| histone H2A [Hyacinthus orientalis]     436.0  3.94532e-49 gi|194698468|gb|ACF83318.1| unknown [Zea mays] >gi|195619466|gb|ACG31563.1| histone H2A [Zea mays] >gi|195652861|gb|ACG45898.1| histone H2A [Zea mays] >gi|413956146|gb|AFW88795.1| histone2A1 [Zea mays] 432.0  1.75055e-48\n",
        "JR848339"
       ]
      },
      {
       "output_type": "stream",
       "stream": "stdout",
       "text": [
        " gi|225443859|ref|XP_002276421.1| PREDICTED: calcyclin-binding protein [Vitis vinifera] >gi|297740707|emb|CBI30889.3| unnamed protein product [Vitis vinifera] 681.0  5.63613e-85 gi|255557303|ref|XP_002519682.1| Calcyclin-binding protein, putative [Ricinus communis] >gi|223541099|gb|EEF42655.1| Calcyclin-binding protein, putative [Ricinus communis] 667.0  6.19412e-83\n",
        "JR848364 gi|629122152|gb|KCW86642.1| hypothetical protein EUGRSUZ_B03271 [Eucalyptus grandis] 641.0  3.4564e-90 gi|225424649|ref|XP_002285512.1| PREDICTED: GDSL esterase/lipase At3g26430 [Vitis vinifera] >gi|296081363|emb|CBI16796.3| unnamed protein product [Vitis vinifera] 643.0  4.82194e-90\n",
        "JR848535 gi|227438939|gb|ACP31199.1| eukaryotic initiation factor 5A2 [Musa hybrid cultivar] 798.0  1.18239e-103 gi|227438941|gb|ACP31200.1| eukaryotic initiation factor 5A1 [Musa hybrid cultivar] 795.0  3.18429e-103\n",
        "JR848357 gi|431154|dbj|BAA04837.1| ORF [Lilium longiflorum]                 579.0  1.10225e-69 gi|514711547|ref|XP_004952305.1| PREDICTED: bidirectional sugar transporter SWEET4-like isoform X2 [Setaria italica] 577.0  6.59544e-69\n",
        "JR848590"
       ]
      },
      {
       "output_type": "stream",
       "stream": "stdout",
       "text": [
        " gi|629100082|gb|KCW65847.1| hypothetical protein EUGRSUZ_G03192 [Eucalyptus grandis] 608.0  1.59519e-74 gi|470141512|ref|XP_004306474.1| PREDICTED: nascent polypeptide-associated complex subunit alpha-like protein-like [Fragaria vesca subsp. vesca] 606.0  3.36375e-74\n",
        "JR849393 gi|475576140|gb|EMT17461.1| hypothetical protein F775_31288 [Aegilops tauschii] 783.0  2.98957e-94 gi|115441471|ref|NP_001045015.1| Os01g0883900 [Oryza sativa Japonica Group] >gi|113534546|dbj|BAF06929.1| Os01g0883900 [Oryza sativa Japonica Group] >gi|215713598|dbj|BAG94735.1| unnamed protein product [Oryza sativa Japonica Group] >gi|215767495|dbj|BAG99723.1| unnamed protein product [Oryza sativa Japonica Group] 778.0  2.08798e-93\n",
        "JR844780 gi|115474139|ref|NP_001060668.1| Os07g0684000 [Oryza sativa Japonica Group] >gi|1658315|emb|CAA70175.1| osr40g3 [Oryza sativa Indica Group] >gi|34394519|dbj|BAC83806.1| r40g3 protein [Oryza sativa Japonica Group] >gi|113612204|dbj|BAF22582.1| Os07g0684000 [Oryza sativa Japonica Group] >gi|125559640|gb|EAZ05176.1| hypothetical protein OsI_27371 [Oryza sativa Indica Group] >gi|125601548|gb|EAZ41124.1| hypothetical protein OsJ_25617 [Oryza sativa Japonica Group] >gi|169244461|gb|ACA50504.1| osr40g3 [Oryza sativa Japonica Group] 575.0  1.28192e-69 gi|224030347|gb|ACN34249.1| unknown [Zea mays]                     583.0  3.37027e-69\n",
        "JR848630 gi|571505498|ref|XP_006595535.1| PREDICTED: uncharacterized protein LOC100527547 isoform X1 [Glycine max] >gi|571505502|ref|XP_006595536.1| PREDICTED: uncharacterized protein LOC100527547 isoform X2 [Glycine max] 806.0  1.84085e-104 gi|351727112|ref|NP_001238429.1| uncharacterized protein LOC100499947 [Glycine max] >gi|255627907|gb|ACU14298.1| unknown [Glycine max] 806.0  2.26372e-104\n",
        "JR843679"
       ]
      },
      {
       "output_type": "stream",
       "stream": "stdout",
       "text": [
        " gi|15221759|ref|NP_175827.1| DNA-directed RNA polymerases II and V subunit 8A [Arabidopsis thaliana] >gi|75100070|sp|O81097.1|RPB8A_ARATH RecName: Full=DNA-directed RNA polymerases II and V subunit 8A; AltName: Full=RNA polymerase I, II and III 16.5 kDa subunit; Short=AtRPABC16.5 [Arabidopsis thaliana] >gi|4585968|gb|AAD25604.1|AC005287_6 RNA polymerase I, II and III 16.5 kDa subunit [Arabidopsis thaliana] >gi|3372230|gb|AAC28252.1| RNA polymerase I, II and III 16.5 kDa subunit [Arabidopsis thaliana] >gi|21555812|gb|AAM63939.1| RNA polymerase II subunit, putative [Arabidopsis thaliana] >gi|28466897|gb|AAO44057.1| At1g54250 [Arabidopsis thaliana] >gi|110735704|dbj|BAE99832.1| RNA polymerase I, II and III 16.5 kDa subunit [Arabidopsis thaliana] >gi|332194950|gb|AEE33071.1| RNA polymerase Rpb8 [Arabidopsis thaliana] 541.0  1.22312e-65 gi|297847838|ref|XP_002891800.1| ATRPABC16.5 [Arabidopsis lyrata subsp. lyrata] >gi|297337642|gb|EFH68059.1| ATRPABC16.5 [Arabidopsis lyrata subsp. lyrata] 537.0  5.21106e-65\n",
        "JR849482 gi|6164957|gb|AAF04597.1|AF193814_1 vacuolar H+-ATP synthase 16kDa proteolipid subunit [Dendrobium crumenatum] 568.0  1.8637e-69 gi|593267469|ref|XP_007135912.1| hypothetical protein PHAVU_009G002400g [Phaseolus vulgaris] >gi|561008999|gb|ESW07906.1| hypothetical protein PHAVU_009G002400g [Phaseolus vulgaris] 569.0  5.56281e-69\n",
        "JR849492 gi|115436786|ref|NP_001043136.1| Os01g0502700 [Oryza sativa Japonica Group] >gi|115452261|ref|NP_001049731.1| Os03g0279200 [Oryza sativa Japonica Group] >gi|75306404|sp|Q94E96.1|H2A5_ORYSJ RecName: Full=Probable histone H2A.5 [Oryza sativa Japonica Group] >gi|158512828|sp|A2WQG7.1|H2A5_ORYSI RecName: Full=Probable histone H2A.5 >gi|13873032|dbj|BAB44136.1| putative histone H2A [Oryza sativa Japonica Group] >gi|108707496|gb|ABF95291.1| Histone H2A, putative, expressed [Oryza sativa Japonica Group] >gi|113532667|dbj|BAF05050.1| Os01g0502700 [Oryza sativa Japonica Group] >gi|113548202|dbj|BAF11645.1| Os03g0279200 [Oryza sativa Japonica Group] >gi|125526099|gb|EAY74213.1| hypothetical protein OsI_02094 [Oryza sativa Indica Group] >gi|125543339|gb|EAY89478.1| hypothetical protein OsI_11008 [Oryza sativa Indica Group] >gi|125570532|gb|EAZ12047.1| hypothetical protein OsJ_01928 [Oryza sativa Japonica Group] >gi|125585800|gb|EAZ26464.1| hypothetical protein OsJ_10353 [Oryza sativa Japonica Group] >gi|215768407|dbj|BAH00636.1| unnamed protein product [Oryza sativa Japonica Group] 531.0  5.62586e-64 gi|514783954|ref|XP_004970473.1| PREDICTED: histone H2A-like [Setaria italica] 531.0  6.61594e-64\n",
        "JR850330 gi|590644520|ref|XP_007031104.1| Heat shock protein binding protein, putative [Theobroma cacao] >gi|508719709|gb|EOY11606.1| Heat shock protein binding protein, putative [Theobroma cacao] 420.0  1.93231e-47 gi|643708500|gb|KDP23416.1| hypothetical protein JCGZ_23249 [Jatropha curcas] 417.0  4.07916e-47\n",
        "JR849933"
       ]
      },
      {
       "output_type": "stream",
       "stream": "stdout",
       "text": [
        " gi|357135412|ref|XP_003569303.1| PREDICTED: aspartic proteinase nepenthesin-1-like [Brachypodium distachyon] 428.0  2.33841e-45 gi|473923014|gb|EMS49734.1| Aspartic proteinase nepenthesin-1 [Triticum urartu] 417.0  7.48579e-45\n",
        "JR849974 gi|242063294|ref|XP_002452936.1| hypothetical protein SORBIDRAFT_04g035260 [Sorghum bicolor] >gi|241932767|gb|EES05912.1| hypothetical protein SORBIDRAFT_04g035260 [Sorghum bicolor] 442.0  2.11973e-51 gi|527207382|gb|EPS72675.1| hypothetical protein M569_02083, partial [Genlisea aurea] 439.0  6.59665e-51\n",
        "JR850885 gi|460399323|ref|XP_004245191.1| PREDICTED: cytochrome b-c1 complex subunit 7-like [Solanum lycopersicum] 521.0  2.34448e-63 gi|568215043|ref|NP_001274887.1| cytochrome b-c1 complex subunit 7 [Solanum tuberosum] >gi|1351357|sp|P48502.1|QCR7_SOLTU RecName: Full=Cytochrome b-c1 complex subunit 7; AltName: Full=CR14; AltName: Full=Complex III subunit 7; AltName: Full=Complex III subunit VII; AltName: Full=Ubiquinol-cytochrome c reductase complex 14 kDa protein >gi|633681|emb|CAA55863.1| ubiquinol--cytochrome c reductase [Solanum tuberosum] 513.0  3.91934e-62\n",
        "JR845329 gi|356550263|ref|XP_003543507.1| PREDICTED: histone H2A-like [Glycine max] 506.0  8.6163e-61 gi|115436786|ref|NP_001043136.1| Os01g0502700 [Oryza sativa Japonica Group] >gi|115452261|ref|NP_001049731.1| Os03g0279200 [Oryza sativa Japonica Group] >gi|75306404|sp|Q94E96.1|H2A5_ORYSJ RecName: Full=Probable histone H2A.5 [Oryza sativa Japonica Group] >gi|158512828|sp|A2WQG7.1|H2A5_ORYSI RecName: Full=Probable histone H2A.5 >gi|13873032|dbj|BAB44136.1| putative histone H2A [Oryza sativa Japonica Group] >gi|108707496|gb|ABF95291.1| Histone H2A, putative, expressed [Oryza sativa Japonica Group] >gi|113532667|dbj|BAF05050.1| Os01g0502700 [Oryza sativa Japonica Group] >gi|113548202|dbj|BAF11645.1| Os03g0279200 [Oryza sativa Japonica Group] >gi|125526099|gb|EAY74213.1| hypothetical protein OsI_02094 [Oryza sativa Indica Group] >gi|125543339|gb|EAY89478.1| hypothetical protein OsI_11008 [Oryza sativa Indica Group] >gi|125570532|gb|EAZ12047.1| hypothetical protein OsJ_01928 [Oryza sativa Japonica Group] >gi|125585800|gb|EAZ26464.1| hypothetical protein OsJ_10353 [Oryza sativa Japonica Group] >gi|215768407|dbj|BAH00636.1| unnamed protein product [Oryza sativa Japonica Group] 506.0  1.14074e-60\n",
        "JR850336 gi|224136360|ref|XP_002322310.1| hypothetical protein POPTR_0015s11970g [Populus trichocarpa] >gi|222869306|gb|EEF06437.1| hypothetical protein POPTR_0015s11970g [Populus trichocarpa] 520.0  3.54526e-62 gi|470128912|ref|XP_004300377.1| PREDICTED: uncharacterized protein LOC101300254 [Fragaria vesca subsp. vesca] 514.0  1.93092e-61\n",
        "JR850677"
       ]
      },
      {
       "output_type": "stream",
       "stream": "stdout",
       "text": [
        " gi|357113479|ref|XP_003558530.1| PREDICTED: vesicle transport protein GOT1B-like [Brachypodium distachyon] 460.0  7.32735e-54 gi|326508278|dbj|BAJ99406.1| predicted protein [Hordeum vulgare subsp. vulgare] 457.0  2.01947e-53\n",
        "JR850390 gi|18034439|gb|AAL57494.1|AF443620_1 homeodomain leucine zipper protein CPHB-4 [Craterostigma plantagineum] 195.0  1.7205e-14 gi|226493195|ref|NP_001140555.1| uncharacterized protein LOC100272620 [Zea mays] >gi|194690356|gb|ACF79262.1| unknown [Zea mays] >gi|194699966|gb|ACF84067.1| unknown [Zea mays] >gi|219887213|gb|ACL53981.1| unknown [Zea mays] >gi|408690264|gb|AFU81592.1| HB-type transcription factor, partial [Zea mays subsp. mays] >gi|414885871|tpg|DAA61885.1| TPA: putative homeobox DNA-binding and leucine zipper domain family protein [Zea mays] 190.0  7.1137e-14\n",
        "JR852261 gi|460370271|ref|XP_004230977.1| PREDICTED: uncharacterized protein LOC101246482 isoform 2 [Solanum lycopersicum] 290.0  2.30498e-29 gi|573925966|ref|XP_006650520.1| PREDICTED: uncharacterized protein LOC102721532 isoform X1 [Oryza brachyantha] >gi|573925968|ref|XP_006650521.1| PREDICTED: uncharacterized protein LOC102721532 isoform X2 [Oryza brachyantha] 289.0  3.41452e-29\n",
        "JR851533 gi|449465127|ref|XP_004150280.1| PREDICTED: uncharacterized protein LOC101204162 [Cucumis sativus] >gi|449511730|ref|XP_004164038.1| PREDICTED: uncharacterized protein LOC101224341 [Cucumis sativus] 230.0  1.49945e-18 gi|242065736|ref|XP_002454157.1| hypothetical protein SORBIDRAFT_04g025650 [Sorghum bicolor] >gi|241933988|gb|EES07133.1| hypothetical protein SORBIDRAFT_04g025650 [Sorghum bicolor] 227.0  4.55876e-18\n",
        "JR851970 gi|121974|sp|P02276.1|H2A2_WHEAT RecName: Full=Histone H2A.2.1     396.0  1.78656e-44 gi|474315052|gb|EMS62077.1| Histone H2A [Triticum urartu]          396.0  1.91898e-44\n",
        "JR844521"
       ]
      },
      {
       "output_type": "stream",
       "stream": "stdout",
       "text": [
        " gi|359806733|ref|NP_001241296.1| uncharacterized protein LOC100778176 [Glycine max] >gi|255638882|gb|ACU19743.1| unknown [Glycine max] 349.0  6.46392e-38 gi|629105146|gb|KCW70615.1| hypothetical protein EUGRSUZ_F03793 [Eucalyptus grandis] 347.0  1.02797e-37\n",
        "JR845640 gi|242095126|ref|XP_002438053.1| hypothetical protein SORBIDRAFT_10g007330 [Sorghum bicolor] >gi|241916276|gb|EER89420.1| hypothetical protein SORBIDRAFT_10g007330 [Sorghum bicolor] 457.0  4.7467e-51 gi|242095124|ref|XP_002438052.1| hypothetical protein SORBIDRAFT_10g007320 [Sorghum bicolor] >gi|241916275|gb|EER89419.1| hypothetical protein SORBIDRAFT_10g007320 [Sorghum bicolor] 453.0  1.74187e-50\n",
        "JR853259 gi|170053486|ref|XP_001862696.1| Histone H3c [Culex quinquefasciatus] >gi|167874005|gb|EDS37388.1| Histone H3c [Culex quinquefasciatus] 706.0  4.45414e-91 gi|170053459|ref|XP_001862683.1| histone H3.1t [Culex quinquefasciatus] >gi|167873992|gb|EDS37375.1| histone H3.1t [Culex quinquefasciatus] 701.0  1.18753e-90\n",
        "JR853537 gi|567858170|ref|XP_006421768.1| hypothetical protein CICLE_v10004259mg [Citrus clementina] >gi|557523641|gb|ESR35008.1| hypothetical protein CICLE_v10004259mg [Citrus clementina] 383.0  1.9737e-40 gi|641846479|gb|KDO65362.1| hypothetical protein CISIN_1g002278mg [Citrus sinensis] 378.0  8.11826e-40\n",
        "JR845639"
       ]
      },
      {
       "output_type": "stream",
       "stream": "stdout",
       "text": [
        " gi|242095126|ref|XP_002438053.1| hypothetical protein SORBIDRAFT_10g007330 [Sorghum bicolor] >gi|241916276|gb|EER89420.1| hypothetical protein SORBIDRAFT_10g007330 [Sorghum bicolor] 449.0  5.68856e-50 gi|242095124|ref|XP_002438052.1| hypothetical protein SORBIDRAFT_10g007320 [Sorghum bicolor] >gi|241916275|gb|EER89419.1| hypothetical protein SORBIDRAFT_10g007320 [Sorghum bicolor] 445.0  2.31674e-49\n",
        "JR854600 gi|413949623|gb|AFW82272.1| histone H4.3 [Zea mays]                412.0  1.09325e-47 gi|629086337|gb|KCW52694.1| hypothetical protein EUGRSUZ_J02062, partial [Eucalyptus grandis] 411.0  1.14761e-47\n",
        "JR853741 gi|568860231|ref|XP_006483628.1| PREDICTED: uncharacterized protein LOC102619609 [Citrus sinensis] 349.0  2.17412e-37 gi|567916196|ref|XP_006450104.1| hypothetical protein CICLE_v10010302mg [Citrus clementina] >gi|557553330|gb|ESR63344.1| hypothetical protein CICLE_v10010302mg [Citrus clementina] >gi|641848310|gb|KDO67187.1| hypothetical protein CISIN_1g048575mg [Citrus sinensis] 345.0  6.67074e-37\n",
        "JR855253 gi|593262132|ref|XP_007133245.1| hypothetical protein PHAVU_011G164000g [Phaseolus vulgaris] >gi|561006245|gb|ESW05239.1| hypothetical protein PHAVU_011G164000g [Phaseolus vulgaris] 392.0  1.28651e-44 gi|474429728|gb|EMS67926.1| Histone H4 [Triticum urartu]           391.0  1.86508e-44\n",
        "JR855665"
       ]
      },
      {
       "output_type": "stream",
       "stream": "stdout",
       "text": [
        " gi|357149719|ref|XP_003575209.1| PREDICTED: uncharacterized protein LOC100834638 [Brachypodium distachyon] 333.0  5.67123e-34 gi|449451437|ref|XP_004143468.1| PREDICTED: uncharacterized protein LOC101209377 [Cucumis sativus] >gi|449504822|ref|XP_004162304.1| PREDICTED: uncharacterized protein LOC101230134 [Cucumis sativus] 328.0  2.58318e-33\n",
        "JR856966 gi|475575069|gb|EMT17159.1| Non-specific lipid-transfer protein 1 [Aegilops tauschii] 188.0  2.35303e-14 gi|52075978|dbj|BAD46431.1| hypothetical protein [Oryza sativa Japonica Group] >gi|55296715|dbj|BAD69433.1| hypothetical protein [Oryza sativa Japonica Group] >gi|125554160|gb|EAY99765.1| hypothetical protein OsI_21751 [Oryza sativa Indica Group] >gi|125596111|gb|EAZ35891.1| hypothetical protein OsJ_20193 [Oryza sativa Japonica Group] 180.0  9.99649e-14\n",
        "JR856598 gi|62321314|dbj|BAD94555.1| hypothetical protein [Arabidopsis thaliana] 520.0  1.59e-63 gi|449525662|ref|XP_004169835.1| PREDICTED: pyrophosphate-energized vacuolar membrane proton pump-like, partial [Cucumis sativus] 523.0  2.82469e-63\n",
        "JR858824 gi|449434999|ref|XP_004135283.1| PREDICTED: cytochrome P450 71B37-like [Cucumis sativus] 432.0  2.94689e-47 gi|449435428|ref|XP_004135497.1| PREDICTED: cytochrome P450 71B37-like [Cucumis sativus] 431.0  3.88552e-47\n",
        "JR858254 gi|590657942|ref|XP_007034708.1| Cupredoxin superfamily protein, putative [Theobroma cacao] >gi|508713737|gb|EOY05634.1| Cupredoxin superfamily protein, putative [Theobroma cacao] 359.0  2.08658e-39 gi|645232595|ref|XP_008222940.1| PREDICTED: mavicyanin [Prunus mume] 358.0  2.54154e-39\n",
        "JR860211"
       ]
      },
      {
       "output_type": "stream",
       "stream": "stdout",
       "text": [
        " gi|297607812|ref|NP_001060666.2| Os07g0683600 [Oryza sativa Japonica Group] >gi|255678066|dbj|BAF22580.2| Os07g0683600 [Oryza sativa Japonica Group] 220.0  9.37425e-20 gi|125568690|gb|EAZ10205.1| hypothetical protein OsJ_00036 [Oryza sativa Japonica Group] 226.0  1.80067e-19\n",
        "GBGJ01005788 gi|449504125|ref|XP_004162259.1| PREDICTED: ADP-ribosylation factor-like protein 5-like isoform 1 [Cucumis sativus] 909.0  3.65301e-119 gi|449432644|ref|XP_004134109.1| PREDICTED: ADP-ribosylation factor-like protein 5-like isoform 1 [Cucumis sativus] >gi|449432646|ref|XP_004134110.1| PREDICTED: ADP-ribosylation factor-like protein 5-like isoform 2 [Cucumis sativus] >gi|449504128|ref|XP_004162260.1| PREDICTED: ADP-ribosylation factor-like protein 5-like isoform 2 [Cucumis sativus] >gi|449504132|ref|XP_004162261.1| PREDICTED: ADP-ribosylation factor-like protein 5-like isoform 3 [Cucumis sativus] 905.0  8.46238e-119\n",
        "GBGJ01006046 gi|225435267|ref|XP_002282208.1| PREDICTED: uncharacterized protein LOC100246731 [Vitis vinifera] 423.0  4.43163e-45 gi|297746233|emb|CBI16289.3| unnamed protein product [Vitis vinifera] 424.0  1.57443e-44\n",
        "JR862984 gi|166343|gb|AAA32640.1| chitinase, partial [Allium sativum]       384.0  1.00514e-42 gi|166345|gb|AAA32641.1| chitinase, partial [Allium sativum] >gi|738925|prf||2001449A chitinase 1 381.0  4.22473e-42\n",
        "GBGJ01010856"
       ]
      },
      {
       "output_type": "stream",
       "stream": "stdout",
       "text": [
        " gi|330318580|gb|AEC10959.1| bola-like family protein [Camellia sinensis] 293.0  2.99359e-30 gi|590708296|ref|XP_007048237.1| BolA-like family protein isoform 1 [Theobroma cacao] >gi|508700498|gb|EOX92394.1| BolA-like family protein isoform 1 [Theobroma cacao] 290.0  8.55484e-30\n",
        "GBGJ01015714 gi|587866256|gb|EXB55734.1| Dihydrolipoyl dehydrogenase [Morus notabilis] 2124.0  0.0 gi|115436366|ref|NP_001042941.1| Os01g0337900 [Oryza sativa Japonica Group] >gi|15290186|dbj|BAB63876.1| putative dihydrolipoamide dehydrogenase [Oryza sativa Japonica Group] >gi|113532472|dbj|BAF04855.1| Os01g0337900 [Oryza sativa Japonica Group] >gi|215767878|dbj|BAH00107.1| unnamed protein product [Oryza sativa Japonica Group] 2120.0  0.0\n",
        "GBGJ01012558 gi|586660808|ref|XP_006830187.1| hypothetical protein AMTR_s00173p00012350 [Amborella trichopoda] >gi|548836370|gb|ERM97603.1| hypothetical protein AMTR_s00173p00012350 [Amborella trichopoda] 1070.0  4.63063e-139 gi|643722572|gb|KDP32322.1| hypothetical protein JCGZ_13247 [Jatropha curcas] 1060.0  1.32032e-137\n",
        "GBGJ01014437 gi|50725189|dbj|BAD33940.1| putative nucleic acid binding protein [Oryza sativa Japonica Group] >gi|51535291|dbj|BAD38554.1| putative nucleic acid binding protein [Oryza sativa Japonica Group] 531.0  3.96373e-62 gi|222641726|gb|EEE69858.1| hypothetical protein OsJ_29658 [Oryza sativa Japonica Group] 530.0  4.25187e-62\n",
        "GBGJ01016006 gi|224123610|ref|XP_002319122.1| hypothetical protein POPTR_0013s04660g [Populus trichocarpa] >gi|566199449|ref|XP_006375861.1| hypothetical protein POPTR_0013s04660g [Populus trichocarpa] >gi|222857498|gb|EEE95045.1| hypothetical protein POPTR_0013s04660g [Populus trichocarpa] >gi|550324961|gb|ERP53658.1| hypothetical protein POPTR_0013s04660g [Populus trichocarpa] 1785.0  0.0 gi|357441423|ref|XP_003590989.1| Glycogenin-1 [Medicago truncatula] >gi|355480037|gb|AES61240.1| Glycogenin-1 [Medicago truncatula] 1777.0  0.0\n",
        "GBGJ01015912"
       ]
      },
      {
       "output_type": "stream",
       "stream": "stdout",
       "text": [
        " gi|225441573|ref|XP_002281426.1| PREDICTED: eukaryotic translation initiation factor 3 subunit C-like [Vitis vinifera] 2713.0  0.0 gi|641851913|gb|KDO70783.1| hypothetical protein CISIN_1g002522mg [Citrus sinensis] 2703.0  0.0\n",
        "GBGJ01016919 gi|356521851|ref|XP_003529564.1| PREDICTED: kinesin-like protein KIF2A-like isoform X1 [Glycine max] >gi|571467729|ref|XP_006584023.1| PREDICTED: kinesin-like protein KIF2A-like isoform X2 [Glycine max] 2656.0  0.0 gi|629095151|gb|KCW61146.1| hypothetical protein EUGRSUZ_H03918 [Eucalyptus grandis] >gi|629095152|gb|KCW61147.1| hypothetical protein EUGRSUZ_H03918 [Eucalyptus grandis] >gi|629095153|gb|KCW61148.1| hypothetical protein EUGRSUZ_H03918 [Eucalyptus grandis] 2635.0  0.0\n",
        "GBGJ01016758 gi|225453951|ref|XP_002280012.1| PREDICTED: 40S ribosomal protein S13 [Vitis vinifera] >gi|147820740|emb|CAN69640.1| hypothetical protein VITISV_028568 [Vitis vinifera] >gi|296089171|emb|CBI38874.3| unnamed protein product [Vitis vinifera] 278.0  9.66091e-27 gi|330318728|gb|AEC11024.1| 40S ribosomal protein s13, partial [Camellia sinensis] 273.0  1.26167e-26\n",
        "GBGJ01016827 gi|567904972|ref|XP_006444974.1| hypothetical protein CICLE_v10020322mg [Citrus clementina] >gi|568876191|ref|XP_006491168.1| PREDICTED: protein BPS1, chloroplastic-like isoform X1 [Citrus sinensis] >gi|557547236|gb|ESR58214.1| hypothetical protein CICLE_v10020322mg [Citrus clementina] >gi|641867591|gb|KDO86275.1| hypothetical protein CISIN_1g014854mg [Citrus sinensis] 739.0  4.75287e-86 gi|596002099|ref|XP_007218220.1| hypothetical protein PRUPE_ppa007896mg [Prunus persica] >gi|462414682|gb|EMJ19419.1| hypothetical protein PRUPE_ppa007896mg [Prunus persica] 729.0  1.04666e-84\n",
        "GBGJ01016940"
       ]
      },
      {
       "output_type": "stream",
       "stream": "stdout",
       "text": [
        " gi|629111281|gb|KCW76241.1| hypothetical protein EUGRSUZ_D00620 [Eucalyptus grandis] 1979.0  0.0 gi|587931012|gb|EXC18111.1| putative ubiquitin-conjugating enzyme E2 24 [Morus notabilis] 1976.0  0.0\n"
       ]
      }
     ],
     "prompt_number": 60
    },
    {
     "cell_type": "code",
     "collapsed": false,
     "input": [
      "blast_record = blast_records.next()\n",
      "for alignment in blast_record.alignments:\n",
      "    for hsp in alignment.hsps:\n",
      "         if hsp.expect < 1e-10:\n",
      "            print 'Sequence:', alignment.title\n",
      "            "
     ],
     "language": "python",
     "metadata": {},
     "outputs": [
      {
       "output_type": "stream",
       "stream": "stdout",
       "text": [
        "Sequence: gi|475587941|gb|EMT20708.1| Protein SRG1 [Aegilops tauschii]\n",
        "Sequence: gi|475587941|gb|EMT20708.1| Protein SRG1 [Aegilops tauschii]\n",
        "Sequence: gi|357125076|ref|XP_003564221.1| PREDICTED: protein SRG1-like [Brachypodium distachyon]\n",
        "Sequence: gi|357125076|ref|XP_003564221.1| PREDICTED: protein SRG1-like [Brachypodium distachyon]\n",
        "Sequence: gi|357125070|ref|XP_003564218.1| PREDICTED: protein SRG1-like isoform 1 [Brachypodium distachyon]\n",
        "Sequence: gi|357125070|ref|XP_003564218.1| PREDICTED: protein SRG1-like isoform 1 [Brachypodium distachyon]\n",
        "Sequence: gi|567870705|ref|XP_006427974.1| hypothetical protein CICLE_v10027018mg [Citrus clementina] >gi|568820706|ref|XP_006464847.1| PREDICTED: codeine O-demethylase-like [Citrus sinensis] >gi|557529964|gb|ESR41214.1| hypothetical protein CICLE_v10027018mg [Citrus clementina]\n",
        "Sequence: gi|567870705|ref|XP_006427974.1| hypothetical protein CICLE_v10027018mg [Citrus clementina] >gi|568820706|ref|XP_006464847.1| PREDICTED: codeine O-demethylase-like [Citrus sinensis] >gi|557529964|gb|ESR41214.1| hypothetical protein CICLE_v10027018mg [Citrus clementina]\n",
        "Sequence: gi|566174760|ref|XP_006381086.1| oxidoreductase family protein [Populus trichocarpa] >gi|550335592|gb|ERP58883.1| oxidoreductase family protein [Populus trichocarpa]\n",
        "Sequence: gi|566174760|ref|XP_006381086.1| oxidoreductase family protein [Populus trichocarpa] >gi|550335592|gb|ERP58883.1| oxidoreductase family protein [Populus trichocarpa]\n",
        "Sequence: gi|296084534|emb|CBI25555.3| unnamed protein product [Vitis vinifera]\n",
        "Sequence: gi|296084534|emb|CBI25555.3| unnamed protein product [Vitis vinifera]\n",
        "Sequence: gi|567870703|ref|XP_006427973.1| hypothetical protein CICLE_v10026001mg [Citrus clementina] >gi|568819937|ref|XP_006464496.1| PREDICTED: codeine O-demethylase-like [Citrus sinensis] >gi|557529963|gb|ESR41213.1| hypothetical protein CICLE_v10026001mg [Citrus clementina]\n",
        "Sequence: gi|567870703|ref|XP_006427973.1| hypothetical protein CICLE_v10026001mg [Citrus clementina] >gi|568819937|ref|XP_006464496.1| PREDICTED: codeine O-demethylase-like [Citrus sinensis] >gi|557529963|gb|ESR41213.1| hypothetical protein CICLE_v10026001mg [Citrus clementina]\n",
        "Sequence: gi|225446211|ref|XP_002263317.1| PREDICTED: protein SRG1 [Vitis vinifera]\n",
        "Sequence: gi|225446211|ref|XP_002263317.1| PREDICTED: protein SRG1 [Vitis vinifera]\n",
        "Sequence: gi|566259703|ref|XP_006389407.1| hypothetical protein POPTR_0025s00430g [Populus trichocarpa] >gi|550312201|gb|ERP48321.1| hypothetical protein POPTR_0025s00430g [Populus trichocarpa]\n",
        "Sequence: gi|566259703|ref|XP_006389407.1| hypothetical protein POPTR_0025s00430g [Populus trichocarpa] >gi|550312201|gb|ERP48321.1| hypothetical protein POPTR_0025s00430g [Populus trichocarpa]\n",
        "Sequence: gi|474356348|gb|EMS63131.1| Protein SRG1 [Triticum urartu]\n",
        "Sequence: gi|474356348|gb|EMS63131.1| Protein SRG1 [Triticum urartu]\n",
        "Sequence: gi|590578794|ref|XP_007013607.1| 2-oxoglutarate and Fe(II)-dependent oxygenase superfamily protein isoform 1 [Theobroma cacao] >gi|508783970|gb|EOY31226.1| 2-oxoglutarate and Fe(II)-dependent oxygenase superfamily protein isoform 1 [Theobroma cacao]\n",
        "Sequence: gi|590578794|ref|XP_007013607.1| 2-oxoglutarate and Fe(II)-dependent oxygenase superfamily protein isoform 1 [Theobroma cacao] >gi|508783970|gb|EOY31226.1| 2-oxoglutarate and Fe(II)-dependent oxygenase superfamily protein isoform 1 [Theobroma cacao]\n",
        "Sequence: gi|590578794|ref|XP_007013607.1| 2-oxoglutarate and Fe(II)-dependent oxygenase superfamily protein isoform 1 [Theobroma cacao] >gi|508783970|gb|EOY31226.1| 2-oxoglutarate and Fe(II)-dependent oxygenase superfamily protein isoform 1 [Theobroma cacao]\n",
        "Sequence: gi|590578794|ref|XP_007013607.1| 2-oxoglutarate and Fe(II)-dependent oxygenase superfamily protein isoform 1 [Theobroma cacao] >gi|508783970|gb|EOY31226.1| 2-oxoglutarate and Fe(II)-dependent oxygenase superfamily protein isoform 1 [Theobroma cacao]\n",
        "Sequence: gi|587896963|gb|EXB85441.1| Protein SRG1 [Morus notabilis]\n",
        "Sequence: gi|587896963|gb|EXB85441.1| Protein SRG1 [Morus notabilis]\n",
        "Sequence: gi|242092204|ref|XP_002436592.1| hypothetical protein SORBIDRAFT_10g005210 [Sorghum bicolor] >gi|241914815|gb|EER87959.1| hypothetical protein SORBIDRAFT_10g005210 [Sorghum bicolor]\n",
        "Sequence: gi|242092204|ref|XP_002436592.1| hypothetical protein SORBIDRAFT_10g005210 [Sorghum bicolor] >gi|241914815|gb|EER87959.1| hypothetical protein SORBIDRAFT_10g005210 [Sorghum bicolor]\n",
        "Sequence: gi|475433056|gb|EMT01242.1| Protein SRG1 [Aegilops tauschii]\n",
        "Sequence: gi|475433056|gb|EMT01242.1| Protein SRG1 [Aegilops tauschii]\n",
        "Sequence: gi|326502556|dbj|BAJ95341.1| predicted protein [Hordeum vulgare subsp. vulgare]\n",
        "Sequence: gi|326502556|dbj|BAJ95341.1| predicted protein [Hordeum vulgare subsp. vulgare]\n",
        "Sequence: gi|326502556|dbj|BAJ95341.1| predicted protein [Hordeum vulgare subsp. vulgare]\n",
        "Sequence: gi|326517547|dbj|BAK03692.1| predicted protein [Hordeum vulgare subsp. vulgare]\n",
        "Sequence: gi|326517547|dbj|BAK03692.1| predicted protein [Hordeum vulgare subsp. vulgare]\n",
        "Sequence: gi|568881938|ref|XP_006493806.1| PREDICTED: probable 2-oxoglutarate/Fe(II)-dependent dioxygenase-like [Citrus sinensis]\n",
        "Sequence: gi|568881938|ref|XP_006493806.1| PREDICTED: probable 2-oxoglutarate/Fe(II)-dependent dioxygenase-like [Citrus sinensis]\n",
        "Sequence: gi|326494822|dbj|BAJ94530.1| predicted protein [Hordeum vulgare subsp. vulgare]\n",
        "Sequence: gi|326494822|dbj|BAJ94530.1| predicted protein [Hordeum vulgare subsp. vulgare]\n",
        "Sequence: gi|326494822|dbj|BAJ94530.1| predicted protein [Hordeum vulgare subsp. vulgare]\n",
        "Sequence: gi|475608391|gb|EMT27024.1| Protein SRG1 [Aegilops tauschii]\n",
        "Sequence: gi|475608391|gb|EMT27024.1| Protein SRG1 [Aegilops tauschii]\n",
        "Sequence: gi|226492960|ref|NP_001146936.1| leucoanthocyanidin dioxygenase [Zea mays] >gi|195605388|gb|ACG24524.1| leucoanthocyanidin dioxygenase [Zea mays]\n",
        "Sequence: gi|226492960|ref|NP_001146936.1| leucoanthocyanidin dioxygenase [Zea mays] >gi|195605388|gb|ACG24524.1| leucoanthocyanidin dioxygenase [Zea mays]\n"
       ]
      }
     ],
     "prompt_number": 31
    }
   ],
   "metadata": {}
  }
 ]
}